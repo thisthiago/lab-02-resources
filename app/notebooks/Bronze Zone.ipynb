{
 "cells": [
  {
   "cell_type": "code",
   "execution_count": null,
   "id": "ad44895d-59ec-48fd-8718-59009780c2b4",
   "metadata": {
    "tags": []
   },
   "outputs": [],
   "source": [
    "from pyspark.sql import SparkSession, DataFrame\n",
    "from pyspark.sql import functions as F\n",
    "from pyspark.sql.window import Window\n",
    "from pyspark.sql.utils import AnalysisException\n",
    "from pyspark.sql.types import StructType, StringType, BinaryType, IntegerType, DoubleType, TimestampType, DateType\n",
    "from delta.tables import DeltaTable\n",
    "from pyspark.storagelevel import StorageLevel\n",
    "\n",
    "# --- Credenciais AWS ---\n",
    "accessKeyId = \"\"\n",
    "secretAccessKey = \"\"\n",
    "\n",
    "# --- Sessão Spark ---\n",
    "def create_spark_session() -> SparkSession:\n",
    "    spark = (\n",
    "        SparkSession\n",
    "        .builder\n",
    "        .appName(\"Bronze Zone\")\n",
    "        .config(\"spark.sql.extensions\", \"io.delta.sql.DeltaSparkSessionExtension\")\n",
    "        .config(\"spark.sql.catalog.spark_catalog\", \"org.apache.spark.sql.delta.catalog.DeltaCatalog\")\n",
    "        .enableHiveSupport()\n",
    "        .getOrCreate()\n",
    "    )\n",
    "    \n",
    "    spark.sparkContext.setLogLevel(\"WARN\")\n",
    "\n",
    "    conf = spark.sparkContext._jsc.hadoopConfiguration()\n",
    "    conf.set(\"spark.hadoop.fs.s3a.aws.credentials.provider\", \"org.apache.hadoop.fs.s3a.TemporaryAWSCredentialsProvider\")\n",
    "    conf.set(\"fs.s3a.impl\", \"org.apache.hadoop.fs.s3a.S3AFileSystem\")\n",
    "    conf.set(\"fs.s3a.fast.upload\", \"true\")\n",
    "    conf.set(\"fs.s3a.bucket.all.committer.magic.enabled\", \"true\")\n",
    "    conf.set(\"fs.s3a.directory.marker.retention\", \"keep\")\n",
    "    conf.set(\"spark.driver.extraClassPath\", \"/usr/local/spark/jars/*\")\n",
    "    conf.set(\"spark.driver.memory\", \"8g\")\n",
    "    conf.set(\"spark.executor.memory\", \"16g\")\n",
    "    conf.set(\"fs.s3a.access.key\", accessKeyId)\n",
    "    conf.set(\"fs.s3a.secret.key\", secretAccessKey)\n",
    "\n",
    "    return spark\n",
    "\n",
    "spark = create_spark_session()\n",
    "\n",
    "# --- Paths ---\n",
    "landing = \"s3a://dev-lab-02-us-east-2-landing/db_barbearia/\"\n",
    "bronze = \"s3a://dev-lab-02-us-east-2-bronze/db_barbearia/\"\n",
    "\n",
    "# --- Tabelas configuradas ---\n",
    "tables_config = {\n",
    "    \"cliente\": {\"pk\": \"cliente_id\"},\n",
    "    # Adicione outras tabelas conforme necessário\n",
    "}\n",
    "\n",
    "# --- Funções auxiliares ---\n",
    "def filter_by_max_ingestion(df: DataFrame, pk_column: str) -> DataFrame:\n",
    "    if \"ingestion_time\" not in df.columns:\n",
    "        print(\"Aviso: Coluna 'ingestion_time' não encontrada. Retornando DataFrame original.\")\n",
    "        return df\n",
    "\n",
    "    window_spec = Window.partitionBy(pk_column).orderBy(F.col(\"ingestion_time\").desc())\n",
    "\n",
    "    return (\n",
    "        df.withColumn(\"row_num\", F.row_number().over(window_spec))\n",
    "          .filter(F.col(\"row_num\") == 1)\n",
    "          .drop(\"row_num\")\n",
    "    )\n",
    "\n",
    "def get_latest_ingestion(df: DataFrame) -> DataFrame:\n",
    "    if \"ingestion_time\" not in df.columns:\n",
    "        print(\"Aviso: Coluna 'ingestion_time' não encontrada. Retornando DataFrame vazio.\")\n",
    "        return df.limit(0)\n",
    "\n",
    "    max_ingestion_time = df.select(F.max(\"ingestion_time\")).first()[0]\n",
    "    return df.filter(F.col(\"ingestion_time\") == max_ingestion_time)\n",
    "\n",
    "def ensure_column_exists(spark: SparkSession, delta_path: str, column_name: str, column_type: str):\n",
    "    try:\n",
    "        spark.read.format(\"delta\").load(delta_path).limit(1)\n",
    "    except AnalysisException as e:\n",
    "        if \"Path does not exist\" in str(e):\n",
    "            print(f\"A tabela Delta não existe no caminho: {delta_path}.\")\n",
    "            return\n",
    "        else:\n",
    "            raise e\n",
    "\n",
    "    temp_view = delta_path.replace(\"/\", \"_\").replace(\".\", \"_\") + \"_temp_check\"\n",
    "\n",
    "    try:\n",
    "        spark.read.format(\"delta\").load(delta_path).createOrReplaceTempView(temp_view)\n",
    "        columns = spark.sql(f\"DESCRIBE {temp_view}\").select(\"col_name\").rdd.flatMap(lambda x: x).collect()\n",
    "        spark.catalog.dropTempView(temp_view)\n",
    "\n",
    "        if column_name not in columns:\n",
    "            print(f\"A coluna '{column_name}' não existe em {delta_path}. Adicionando...\")\n",
    "            spark.sql(f\"ALTER TABLE delta.`{delta_path}` ADD COLUMNS ({column_name} {column_type})\")\n",
    "            print(\"Coluna adicionada com sucesso.\")\n",
    "        else:\n",
    "            print(f\"A coluna '{column_name}' já existe.\")\n",
    "    except AnalysisException as e:\n",
    "        print(f\"Erro ao verificar/adicionar coluna: {e}\")\n",
    "\n",
    "def upsert_with_delete_track(source_df: DataFrame, delta_path: str, pk_column: str, ingestion_time_column: str = \"ingestion_time\"):\n",
    "    delta_table = DeltaTable.forPath(spark, delta_path)\n",
    "    target_df = delta_table.toDF()\n",
    "\n",
    "    print(\"Schema da tabela Delta de destino:\")\n",
    "    target_df.printSchema()\n",
    "    target_df.show(5, truncate=False)\n",
    "\n",
    "    print(\"Schema do DataFrame de origem:\")\n",
    "    source_df.printSchema()\n",
    "    source_df.show(5, truncate=False)\n",
    "\n",
    "    source_df.createOrReplaceTempView(\"source_data\")\n",
    "    target_df.createOrReplaceTempView(\"target_data\")\n",
    "\n",
    "    records_to_deactivate = spark.sql(f\"\"\"\n",
    "        SELECT t.{pk_column}\n",
    "        FROM target_data t\n",
    "        LEFT JOIN source_data s ON t.{pk_column} = s.{pk_column}\n",
    "        WHERE s.{pk_column} IS NULL AND t.ativo = true\n",
    "    \"\"\")\n",
    "\n",
    "    count_to_deactivate = records_to_deactivate.count()\n",
    "    print(f\"Registros a desativar: {count_to_deactivate}\")\n",
    "    records_to_deactivate.show(truncate=False)\n",
    "    ids_to_deactivate = records_to_deactivate.select(pk_column).rdd.flatMap(lambda x: x).collect()\n",
    "\n",
    "    if ids_to_deactivate:\n",
    "        print(f\"Encontrados {len(ids_to_deactivate)} registros para desativar\")\n",
    "\n",
    "        delta_table.update(\n",
    "            condition=F.col(pk_column).isin(ids_to_deactivate) & (F.col(\"ativo\") == True),\n",
    "            set={\n",
    "                \"ativo\": F.lit(False),\n",
    "                \"deletion_time\": F.current_timestamp(),\n",
    "                \"ingestion_time\": F.current_timestamp()\n",
    "            }\n",
    "        )\n",
    "        print(\"Registros desativados.\")\n",
    "    else:\n",
    "        print(\"Nenhum registro para desativar encontrado.\")\n",
    "\n",
    "    # UPSERT\n",
    "    delta_table.alias(\"target\").merge(\n",
    "        source_df.alias(\"source\"),\n",
    "        f\"target.{pk_column} = source.{pk_column}\"\n",
    "    ).whenMatchedUpdate(\n",
    "        condition=f\"source.{ingestion_time_column} > target.{ingestion_time_column}\",\n",
    "        set={\n",
    "            col: f\"source.{col}\"\n",
    "            for col in source_df.columns\n",
    "            if col != pk_column and col in target_df.columns\n",
    "        }\n",
    "    ).whenNotMatchedInsertAll().execute()\n",
    "\n",
    "    print(\"UPSERT concluído.\")\n"
   ]
  },
  {
   "cell_type": "code",
   "execution_count": 4,
   "id": "74f4517b-7697-497a-83a3-ecf9e7820d08",
   "metadata": {
    "tags": []
   },
   "outputs": [
    {
     "name": "stdout",
     "output_type": "stream",
     "text": [
      "Schema da tabela Delta de destino:\n",
      "root\n",
      " |-- cliente_id: integer (nullable = true)\n",
      " |-- nome: string (nullable = true)\n",
      " |-- telefone: string (nullable = true)\n",
      " |-- email: string (nullable = true)\n",
      " |-- data_nascimento: date (nullable = true)\n",
      " |-- data_cadastro: timestamp (nullable = true)\n",
      " |-- observacoes: string (nullable = true)\n",
      " |-- ativo: boolean (nullable = true)\n",
      " |-- ingestion_time: timestamp (nullable = true)\n",
      " |-- origem: string (nullable = true)\n",
      " |-- deletion_time: timestamp (nullable = true)\n",
      "\n",
      "+----------+----------------------------+-------------+-----------------------------------+---------------+--------------------------+-----------+-----+--------------------------+----------+-------------+\n",
      "|cliente_id|nome                        |telefone     |email                              |data_nascimento|data_cadastro             |observacoes|ativo|ingestion_time            |origem    |deletion_time|\n",
      "+----------+----------------------------+-------------+-----------------------------------+---------------+--------------------------+-----------+-----+--------------------------+----------+-------------+\n",
      "|2         |Amaurir                     |null         |null                               |null           |2025-05-04 19:27:10.303662|null       |true |2025-05-04 22:27:47.110989|postgresql|null         |\n",
      "|1001      |Augusto da Mata             |(11) 942-6470|augusto.da mata da mota70@gmail.com|1946-11-02     |2023-04-18 19:37:47.241382|null       |true |2025-05-04 22:27:47.110989|postgresql|null         |\n",
      "|1002      |Maria Liz da Paz Guerra     |(11) 950-1952|maria liz.da paz@hotmail.com       |1998-06-29     |2023-07-01 19:37:47.241382|null       |true |2025-05-04 22:27:47.110989|postgresql|null         |\n",
      "|1003      |Mathias Ribeiro Abreu e Lima|(11) 959-8787|mathias.ribeiro abreu@outlook.com  |1958-09-02     |2023-02-13 19:37:47.257051|null       |true |2025-05-04 22:27:47.110989|postgresql|null         |\n",
      "|1004      |Théo Aragão                 |(11) 929-3451|théo.aragão@outlook.com            |1975-07-18     |2022-05-26 19:37:47.257051|null       |true |2025-05-04 22:27:47.110989|postgresql|null         |\n",
      "+----------+----------------------------+-------------+-----------------------------------+---------------+--------------------------+-----------+-----+--------------------------+----------+-------------+\n",
      "only showing top 5 rows\n",
      "\n",
      "Schema do DataFrame de origem:\n",
      "root\n",
      " |-- cliente_id: integer (nullable = true)\n",
      " |-- nome: string (nullable = true)\n",
      " |-- telefone: string (nullable = true)\n",
      " |-- email: string (nullable = true)\n",
      " |-- data_nascimento: date (nullable = true)\n",
      " |-- data_cadastro: timestamp (nullable = true)\n",
      " |-- observacoes: string (nullable = true)\n",
      " |-- ativo: boolean (nullable = true)\n",
      " |-- ingestion_time: timestamp (nullable = true)\n",
      " |-- origem: string (nullable = true)\n",
      " |-- deletion_time: timestamp (nullable = true)\n",
      "\n",
      "+----------+----------------------------+-------------+-----------------------------------+---------------+--------------------------+--------------------+-----+--------------------------+----------+-------------+\n",
      "|cliente_id|nome                        |telefone     |email                              |data_nascimento|data_cadastro             |observacoes         |ativo|ingestion_time            |origem    |deletion_time|\n",
      "+----------+----------------------------+-------------+-----------------------------------+---------------+--------------------------+--------------------+-----+--------------------------+----------+-------------+\n",
      "|1001      |Augusto da Mata             |(11) 942-6470|augusto.da mata da mota70@gmail.com|1946-11-02     |2023-04-18 19:37:47.241382|null                |true |2025-05-04 22:29:34.721292|postgresql|null         |\n",
      "|1002      |Maria Liz da Paz Guerra     |(11) 950-1952|maria liz.da paz@hotmail.com       |1998-06-29     |2023-07-01 19:37:47.241382|null                |true |2025-05-04 22:29:34.721292|postgresql|null         |\n",
      "|1003      |Mathias Ribeiro Abreu e Lima|(11) 959-8787|mathias.ribeiro abreu@outlook.com  |1958-09-02     |2023-02-13 19:37:47.257051|null                |true |2025-05-04 22:29:34.721292|postgresql|null         |\n",
      "|1004      |Théo Aragão                 |(11) 929-3451|théo.aragão@outlook.com            |1975-07-18     |2022-05-26 19:37:47.257051|null                |true |2025-05-04 22:29:34.721292|postgresql|null         |\n",
      "|1005      |Liam Gomes                  |(11) 964-3226|liam.gomes41@gmail.com             |1982-12-17     |2024-07-08 19:37:47.25819 |Não gosta de máquina|true |2025-05-04 22:29:34.721292|postgresql|null         |\n",
      "+----------+----------------------------+-------------+-----------------------------------+---------------+--------------------------+--------------------+-----+--------------------------+----------+-------------+\n",
      "only showing top 5 rows\n",
      "\n",
      "Registros a desativar: 1\n",
      "+----------+\n",
      "|cliente_id|\n",
      "+----------+\n",
      "|2         |\n",
      "+----------+\n",
      "\n",
      "Encontrados 1 registros para desativar\n",
      "Registros desativados.\n",
      "UPSERT concluído.\n"
     ]
    }
   ],
   "source": [
    "# --- Pipeline de execução ---\n",
    "source_clientes = spark.read.format(\"parquet\").load(f\"{landing}cliente/\")\n",
    "source_clientes = source_clientes.withColumn(\"deletion_time\", F.lit(None).cast(TimestampType()))\n",
    "source_clientes = filter_by_max_ingestion(source_clientes, 'cliente_id')\n",
    "source_clientes = get_latest_ingestion(source_clientes)\n",
    "\n",
    "upsert_with_delete_track(\n",
    "    source_df=source_clientes,\n",
    "    delta_path=f\"{bronze}cliente/\",\n",
    "    pk_column=\"cliente_id\",\n",
    "    ingestion_time_column=\"ingestion_time\"\n",
    ")"
   ]
  },
  {
   "cell_type": "code",
   "execution_count": 6,
   "id": "0c8529eb-8c68-4d28-98c3-a8c3b5f47647",
   "metadata": {
    "tags": []
   },
   "outputs": [],
   "source": [
    "spark.read.format(\"delta\").load(\"s3a://dev-lab-02-us-east-2-bronze/db_barbearia/cliente/\").createOrReplaceTempView(\"cliente\")"
   ]
  },
  {
   "cell_type": "code",
   "execution_count": 7,
   "id": "b3005e2f-0c91-4f47-a73c-654718e60b0a",
   "metadata": {
    "tags": []
   },
   "outputs": [
    {
     "name": "stdout",
     "output_type": "stream",
     "text": [
      "+--------+\n",
      "|count(1)|\n",
      "+--------+\n",
      "|     501|\n",
      "+--------+\n",
      "\n"
     ]
    }
   ],
   "source": [
    "spark.sql(\"select count(1) from cliente\").show()"
   ]
  },
  {
   "cell_type": "code",
   "execution_count": 22,
   "id": "3ee91640-5eae-4a3f-b85a-724feddc56d8",
   "metadata": {
    "tags": []
   },
   "outputs": [
    {
     "name": "stdout",
     "output_type": "stream",
     "text": [
      "+------------------+-----+\n",
      "|nome              |ativo|\n",
      "+------------------+-----+\n",
      "|Dr. Gabriel Pastor|false|\n",
      "+------------------+-----+\n",
      "\n"
     ]
    }
   ],
   "source": [
    "#Original\n",
    "spark.sql(\"select nome,ativo from cliente where cliente_id in (1008,2)\").show(truncate= False)"
   ]
  },
  {
   "cell_type": "code",
   "execution_count": 25,
   "id": "f70e45fe-7bd4-415d-842c-2b95b253f32f",
   "metadata": {
    "tags": []
   },
   "outputs": [
    {
     "name": "stdout",
     "output_type": "stream",
     "text": [
      "+---------------------+-----+-------------+\n",
      "|nome                 |ativo|deletion_time|\n",
      "+---------------------+-----+-------------+\n",
      "|Amaurir              |true |null         |\n",
      "|Dr. Gabriel Pastor Dr|false|null         |\n",
      "+---------------------+-----+-------------+\n",
      "\n"
     ]
    }
   ],
   "source": [
    "#insert\n",
    "spark.sql(\"select nome,ativo,deletion_time from cliente where cliente_id in (1008,2)\").show(truncate= False)"
   ]
  },
  {
   "cell_type": "code",
   "execution_count": 8,
   "id": "f4cb5ce3-b504-4d12-902b-114dc07b9c69",
   "metadata": {
    "tags": []
   },
   "outputs": [
    {
     "name": "stdout",
     "output_type": "stream",
     "text": [
      "+-----------+-----+--------------------------+\n",
      "|nome       |ativo|deletion_time             |\n",
      "+-----------+-----+--------------------------+\n",
      "|Amaurir    |false|2025-05-04 22:39:26.023927|\n",
      "|Dr. Gabriel|false|null                      |\n",
      "+-----------+-----+--------------------------+\n",
      "\n"
     ]
    }
   ],
   "source": [
    "#delete\n",
    "spark.sql(\"select nome,ativo,deletion_time from cliente where cliente_id in (1008,2)\").show(truncate= False)"
   ]
  }
 ],
 "metadata": {
  "kernelspec": {
   "display_name": "Python 3 (ipykernel)",
   "language": "python",
   "name": "python3"
  },
  "language_info": {
   "codemirror_mode": {
    "name": "ipython",
    "version": 3
   },
   "file_extension": ".py",
   "mimetype": "text/x-python",
   "name": "python",
   "nbconvert_exporter": "python",
   "pygments_lexer": "ipython3",
   "version": "3.10.5"
  }
 },
 "nbformat": 4,
 "nbformat_minor": 5
}
