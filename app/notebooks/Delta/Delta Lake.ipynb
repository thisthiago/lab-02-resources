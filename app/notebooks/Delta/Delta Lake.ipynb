{
 "cells": [
  {
   "cell_type": "markdown",
   "id": "c27f9653",
   "metadata": {},
   "source": [
    "<p align=\"center\">\n",
    "  <a href=\"\" rel=\"noopener\">\n",
    " <img width=500px height=100px src=\"https://docs.delta.io/latest/_static/delta-lake-logo.png\" alt=\"Project logo\"></a>\n",
    "</p>\n",
    "\n",
    "<h6 align=\"center\">Delta Lake é um projeto de código aberto que permite a construção de uma arquitetura Lakehouse. Fornecendo features como, transações ACID, manipulação de metadados escalonáveis e unificação do modo de realizar processamento de dados em lote e streaming sobre os data lakes existentes, como S3, ADLS, GCS e HDFS.</h6>\n",
    "\n",
    "<div align=\"center\">\n",
    "</div>"
   ]
  },
  {
   "cell_type": "markdown",
   "id": "aa9ffcc2",
   "metadata": {},
   "source": [
    "<h6 align=\"center\">\n",
    "Delta Lake é uma camada de armazenamento que utiliza o formato Parquet como padrão e que fornece transações compatíveis com ACID e benefícios adicionais para Data Lakes. O Delta Lake pode ajudar a resolver diversos problemas alguns deles são:\n",
    "</h6>\n",
    "    \n",
    "- Dificuldade em anexar dados\n",
    "- Jobs extremamente custosos que falham durante a execução\n",
    "- Modificações de dados armazenados são difíceis\n",
    "- Operações em tempo real\n",
    "- É caro manter versões históricas de dados\n",
    "- Difícil de lidar com metadados grandes\n",
    "- Problemas de “muitos arquivos”\n",
    "- É difícil obter um ótimo desempenho\n",
    "- Problemas de qualidade de dados\n"
   ]
  },
  {
   "cell_type": "code",
   "execution_count": 2,
   "id": "5c231dfc",
   "metadata": {
    "tags": []
   },
   "outputs": [],
   "source": [
    "from pyspark.sql import SparkSession\n",
    "from delta.tables import DeltaTable \n",
    "\n",
    "spark = (\n",
    "        SparkSession\n",
    "        .builder\n",
    "        .appName(\"Exemplo Delta\")\n",
    "        .config(\"spark.sql.extensions\", \"io.delta.sql.DeltaSparkSessionExtension\")\n",
    "        .config(\"spark.sql.catalog.spark_catalog\", \"org.apache.spark.sql.delta.catalog.DeltaCatalog\")\n",
    "        .enableHiveSupport()\n",
    "        .getOrCreate()\n",
    ")    \n",
    "spark.sparkContext.setLogLevel(\"WARN\")"
   ]
  },
  {
   "cell_type": "code",
   "execution_count": 26,
   "id": "89cfad8f-1b12-4e15-8b2f-843e5b0b5120",
   "metadata": {
    "tags": []
   },
   "outputs": [
    {
     "data": {
      "text/html": [
       "\n",
       "            <div>\n",
       "                <p><b>SparkSession - hive</b></p>\n",
       "                \n",
       "        <div>\n",
       "            <p><b>SparkContext</b></p>\n",
       "\n",
       "            <p><a href=\"http://44dfa6a52dbb:4040\">Spark UI</a></p>\n",
       "\n",
       "            <dl>\n",
       "              <dt>Version</dt>\n",
       "                <dd><code>v3.2.1</code></dd>\n",
       "              <dt>Master</dt>\n",
       "                <dd><code>local[*]</code></dd>\n",
       "              <dt>AppName</dt>\n",
       "                <dd><code>Bronze Zone Streaming</code></dd>\n",
       "            </dl>\n",
       "        </div>\n",
       "        \n",
       "            </div>\n",
       "        "
      ],
      "text/plain": [
       "<pyspark.sql.session.SparkSession at 0x7fcf906c5ea0>"
      ]
     },
     "execution_count": 26,
     "metadata": {},
     "output_type": "execute_result"
    }
   ],
   "source": [
    "spark"
   ]
  },
  {
   "cell_type": "code",
   "execution_count": null,
   "id": "c42f1fa3-4acb-4ce4-b964-7178c92a29bb",
   "metadata": {
    "tags": []
   },
   "outputs": [],
   "source": [
    "spark.sparkContext.getConf().getAll()"
   ]
  },
  {
   "cell_type": "code",
   "execution_count": null,
   "id": "e8bcbc05",
   "metadata": {
    "tags": []
   },
   "outputs": [],
   "source": [
    "from delta.tables import DeltaTable"
   ]
  },
  {
   "cell_type": "markdown",
   "id": "01de7702",
   "metadata": {},
   "source": [
    "## Lendo dados brutos"
   ]
  },
  {
   "cell_type": "code",
   "execution_count": 4,
   "id": "4a9c8350-e060-4509-9f08-8e7937fd0db2",
   "metadata": {
    "tags": []
   },
   "outputs": [],
   "source": [
    "path_landing = {\n",
    "    \"user\":\"./landing-zone/user\"\n",
    "}"
   ]
  },
  {
   "cell_type": "code",
   "execution_count": 6,
   "id": "d5eed617",
   "metadata": {
    "tags": []
   },
   "outputs": [
    {
     "name": "stdout",
     "output_type": "stream",
     "text": [
      "+-------+-----------------------+\n",
      "|user_id|email                  |\n",
      "+-------+-----------------------+\n",
      "|1703   |daron.bailey@email.com |\n",
      "|3650   |jonah.barrows@email.com|\n",
      "|8809   |carla.hansen@email.com |\n",
      "|4606   |tomas.ledner@email.com |\n",
      "|1      |alyse.ortiz@email.com  |\n",
      "+-------+-----------------------+\n",
      "only showing top 5 rows\n",
      "\n",
      "QTD REGISTROS: 800\n"
     ]
    }
   ],
   "source": [
    "df_user = (\n",
    "    spark\n",
    "    .read\n",
    "    .format(\"json\")\n",
    "    .load(path_landing[\"user\"])\n",
    "    .select(\"user_id\", \"email\")\n",
    ")\n",
    "\n",
    "df_user.show(n=5, truncate=False)\n",
    "print(f\"QTD REGISTROS: {df_user.count()}\")"
   ]
  },
  {
   "cell_type": "markdown",
   "id": "e17775bd",
   "metadata": {},
   "source": [
    "## Escrevendo os dados em formato Delta"
   ]
  },
  {
   "cell_type": "code",
   "execution_count": 7,
   "id": "2552168a-6321-4fa9-9e02-0bf3f8943ec3",
   "metadata": {
    "tags": []
   },
   "outputs": [],
   "source": [
    "path_bronze = {\n",
    "    \"user\":\"./bronze-zone/user\"\n",
    "}"
   ]
  },
  {
   "cell_type": "code",
   "execution_count": 16,
   "id": "050ae5ee",
   "metadata": {
    "tags": []
   },
   "outputs": [],
   "source": [
    "(\n",
    "    df_user\n",
    "    .coalesce(1)\n",
    "    .write\n",
    "    .format(\"delta\")\n",
    "    .mode(\"overwrite\") # overwrite | append\n",
    "    .save(path_bronze[\"user\"])\n",
    ")"
   ]
  },
  {
   "cell_type": "markdown",
   "id": "d3c38a9f-5059-43f5-bd2d-cae34290eac3",
   "metadata": {},
   "source": [
    "## Histórico da Delta Table"
   ]
  },
  {
   "cell_type": "code",
   "execution_count": 9,
   "id": "ddf9e567-f62a-4267-ba0f-62d94533228c",
   "metadata": {
    "tags": []
   },
   "outputs": [
    {
     "name": "stdout",
     "output_type": "stream",
     "text": [
      "-RECORD 0-----------------------------------------------------------------------------\n",
      " version             | 0                                                              \n",
      " timestamp           | 2025-05-07 12:25:37.573                                        \n",
      " userId              | null                                                           \n",
      " userName            | null                                                           \n",
      " operation           | WRITE                                                          \n",
      " operationParameters | {mode -> Overwrite, partitionBy -> []}                         \n",
      " job                 | null                                                           \n",
      " notebook            | null                                                           \n",
      " clusterId           | null                                                           \n",
      " readVersion         | null                                                           \n",
      " isolationLevel      | Serializable                                                   \n",
      " isBlindAppend       | false                                                          \n",
      " operationMetrics    | {numFiles -> 1, numOutputRows -> 800, numOutputBytes -> 14621} \n",
      " userMetadata        | null                                                           \n",
      " engineInfo          | Apache-Spark/3.2.1 Delta-Lake/2.0.2                            \n",
      "\n"
     ]
    }
   ],
   "source": [
    "deltaTable = DeltaTable.forPath(spark, path_bronze[\"user\"])\n",
    "deltaTable.history().show(truncate=False, vertical=True)"
   ]
  },
  {
   "cell_type": "markdown",
   "id": "bfdfb1a2",
   "metadata": {},
   "source": [
    "## Delete"
   ]
  },
  {
   "cell_type": "code",
   "execution_count": 10,
   "id": "220858f8",
   "metadata": {
    "tags": []
   },
   "outputs": [
    {
     "name": "stdout",
     "output_type": "stream",
     "text": [
      "ANTES DE DELETAR\n",
      "+-------+---------------------+\n",
      "|user_id|email                |\n",
      "+-------+---------------------+\n",
      "|1      |alyse.ortiz@email.com|\n",
      "+-------+---------------------+\n",
      "\n",
      "APÓS DELETAR\n",
      "+-------+-----+\n",
      "|user_id|email|\n",
      "+-------+-----+\n",
      "+-------+-----+\n",
      "\n"
     ]
    }
   ],
   "source": [
    "print(\"ANTES DE DELETAR\")\n",
    "history = deltaTable.toDF()\n",
    "history.where(\"user_id == 1\").show(truncate=False)\n",
    "\n",
    "print(\"APÓS DELETAR\")\n",
    "deltaTable.delete(\n",
    "    \"user_id == 1\"\n",
    ")\n",
    "\n",
    "history = deltaTable.toDF()\n",
    "history.where(\"user_id == 1\").show(truncate=False)"
   ]
  },
  {
   "cell_type": "markdown",
   "id": "909876ea",
   "metadata": {},
   "source": [
    "## Update"
   ]
  },
  {
   "cell_type": "code",
   "execution_count": 17,
   "id": "49f53da2",
   "metadata": {
    "tags": []
   },
   "outputs": [
    {
     "name": "stdout",
     "output_type": "stream",
     "text": [
      "ANTES DE ATUALIZAR\n",
      "+-------+------------------------+\n",
      "|user_id|email                   |\n",
      "+-------+------------------------+\n",
      "|3395   |marcos.collier@email.com|\n",
      "+-------+------------------------+\n",
      "\n",
      "APÓS ATUALIZAR\n",
      "+-------+---------------+\n",
      "|user_id|email          |\n",
      "+-------+---------------+\n",
      "|3395   |unipe@gmail.com|\n",
      "+-------+---------------+\n",
      "\n"
     ]
    }
   ],
   "source": [
    "print(\"ANTES DE ATUALIZAR\")\n",
    "history = deltaTable.toDF()\n",
    "history.where(\"email == 'marcos.collier@email.com'\").show(truncate=False)\n",
    "\n",
    "print(\"APÓS ATUALIZAR\")\n",
    "deltaTable.update(\n",
    "    condition = \"email = 'marcos.collier@email.com'\",\n",
    "    set = { \"email\": \"'unipe@gmail.com'\" } \n",
    ")\n",
    "\n",
    "history = deltaTable.toDF()\n",
    "history.where(\"email == 'unipe@gmail.com'\").show(truncate=False)"
   ]
  },
  {
   "cell_type": "markdown",
   "id": "19fe5621",
   "metadata": {},
   "source": [
    "## Gerando novos dados para serem atualizados de forma Incremental"
   ]
  },
  {
   "cell_type": "code",
   "execution_count": 18,
   "id": "c67b2db9",
   "metadata": {
    "tags": []
   },
   "outputs": [
    {
     "data": {
      "text/plain": [
       "[('3395', 'example@gmail.com'), ('3650', 'example1@gmail.com.br')]"
      ]
     },
     "execution_count": 18,
     "metadata": {},
     "output_type": "execute_result"
    }
   ],
   "source": [
    "items = [\n",
    "        (\"3395\", \"example@gmail.com\"), \n",
    "        (\"3650\", \"example1@gmail.com.br\")\n",
    "]\n",
    "\n",
    "items"
   ]
  },
  {
   "cell_type": "code",
   "execution_count": 19,
   "id": "ba1be5dd-0677-48e5-bdf4-a3fbc26f1054",
   "metadata": {
    "tags": []
   },
   "outputs": [
    {
     "data": {
      "text/plain": [
       "['user_id', 'email']"
      ]
     },
     "execution_count": 19,
     "metadata": {},
     "output_type": "execute_result"
    }
   ],
   "source": [
    "cols = [\n",
    "        \"user_id\",\n",
    "        \"email\"\n",
    "]\n",
    "\n",
    "cols"
   ]
  },
  {
   "cell_type": "code",
   "execution_count": 23,
   "id": "e8c41674",
   "metadata": {
    "tags": []
   },
   "outputs": [
    {
     "name": "stdout",
     "output_type": "stream",
     "text": [
      "____________________________________\n",
      "NOVOS DADOS PARA ATUALIZAR\n",
      "+-------+---------------------+\n",
      "|user_id|email                |\n",
      "+-------+---------------------+\n",
      "|3395   |example@gmail.com    |\n",
      "|3650   |example1@gmail.com.br|\n",
      "+-------+---------------------+\n",
      "\n",
      "2\n",
      "____________________________________\n",
      "DADOS DESATUALIZADOS\n",
      "+-------+------------------------+\n",
      "|user_id|email                   |\n",
      "+-------+------------------------+\n",
      "|3395   |marcos.collier@email.com|\n",
      "|3650   |jonah.barrows@email.com |\n",
      "+-------+------------------------+\n",
      "\n"
     ]
    },
    {
     "data": {
      "text/plain": [
       "800"
      ]
     },
     "execution_count": 23,
     "metadata": {},
     "output_type": "execute_result"
    }
   ],
   "source": [
    "line = \"____________________________________\"\n",
    "print(f\"{line}\\nNOVOS DADOS PARA ATUALIZAR\")\n",
    "df_new = spark.createDataFrame(items, cols)\n",
    "df_new.show(truncate=False)\n",
    "print(df_new.count())\n",
    "\n",
    "\n",
    "\n",
    "print(f\"{line}\\nDADOS DESATUALIZADOS\")\n",
    "df_user.where(\"user_id in (3395, 3650)\").orderBy(\"user_id\").show(truncate=False)\n",
    "df_user.count()"
   ]
  },
  {
   "cell_type": "markdown",
   "id": "8c20b9dc",
   "metadata": {},
   "source": [
    "## Upserts"
   ]
  },
  {
   "cell_type": "code",
   "execution_count": 14,
   "id": "c8f2e6cc-47ff-46e2-8b1e-7213073b48f7",
   "metadata": {},
   "outputs": [],
   "source": [
    "# !rm -rf /home/jovyan/work/datalake/s3/bronze/user/"
   ]
  },
  {
   "cell_type": "code",
   "execution_count": 24,
   "id": "216c482d",
   "metadata": {
    "tags": []
   },
   "outputs": [],
   "source": [
    "(\n",
    "    deltaTable.alias(\"desatualizados\")\n",
    "    .merge(\n",
    "        df_new.alias(\"atualizados\"),\"desatualizados.user_id = atualizados.user_id\"\n",
    "    )\n",
    "    .whenMatchedUpdateAll(\n",
    "        condition = \"desatualizados.user_id = atualizados.user_id\"\n",
    "    )\n",
    "    .whenNotMatchedInsertAll()\n",
    "    .execute()\n",
    ")"
   ]
  },
  {
   "cell_type": "markdown",
   "id": "147ed670",
   "metadata": {},
   "source": [
    "## Após Upserts"
   ]
  },
  {
   "cell_type": "code",
   "execution_count": 25,
   "id": "144874a8",
   "metadata": {
    "tags": []
   },
   "outputs": [
    {
     "name": "stdout",
     "output_type": "stream",
     "text": [
      "+-------+---------------------+\n",
      "|user_id|email                |\n",
      "+-------+---------------------+\n",
      "|3395   |example@gmail.com    |\n",
      "|3650   |example1@gmail.com.br|\n",
      "+-------+---------------------+\n",
      "\n"
     ]
    }
   ],
   "source": [
    "delta_atualizado = deltaTable.toDF()\n",
    "\n",
    "(\n",
    "    delta_atualizado\n",
    "    .where(\n",
    "        \"\"\"\n",
    "        user_id \n",
    "            in (3650, 3395)\n",
    "        \"\"\")\n",
    "    .show(truncate=False)\n",
    ")"
   ]
  },
  {
   "cell_type": "markdown",
   "id": "61d9f16d",
   "metadata": {},
   "source": [
    "## Viagem no Tempo"
   ]
  },
  {
   "cell_type": "code",
   "execution_count": 27,
   "id": "1728ab5c",
   "metadata": {
    "tags": []
   },
   "outputs": [],
   "source": [
    "history_delta = deltaTable.history()"
   ]
  },
  {
   "cell_type": "code",
   "execution_count": 29,
   "id": "fe0c6af9-b6ff-401c-9021-d9106da59857",
   "metadata": {
    "tags": []
   },
   "outputs": [
    {
     "name": "stdout",
     "output_type": "stream",
     "text": [
      "-RECORD 0-------------------------------------------------------------------------------------------------------------------------------------------------------------------------------------------------------------------------------------------------------------------------------------------------------------------------------\n",
      " version             | 2                                                                                                                                                                                                                                                                                                                \n",
      " timestamp           | 2025-05-07 12:30:02.402                                                                                                                                                                                                                                                                                          \n",
      " userId              | null                                                                                                                                                                                                                                                                                                             \n",
      " userName            | null                                                                                                                                                                                                                                                                                                             \n",
      " operation           | MERGE                                                                                                                                                                                                                                                                                                            \n",
      " operationParameters | {predicate -> (desatualizados.user_id = CAST(atualizados.user_id AS BIGINT)), matchedPredicates -> [{\"predicate\":\"(desatualizados.user_id = CAST(atualizados.user_id AS BIGINT))\",\"actionType\":\"update\"}], notMatchedPredicates -> [{\"actionType\":\"insert\"}]}                                                    \n",
      " job                 | null                                                                                                                                                                                                                                                                                                             \n",
      " notebook            | null                                                                                                                                                                                                                                                                                                             \n",
      " clusterId           | null                                                                                                                                                                                                                                                                                                             \n",
      " readVersion         | 1                                                                                                                                                                                                                                                                                                                \n",
      " isolationLevel      | Serializable                                                                                                                                                                                                                                                                                                     \n",
      " isBlindAppend       | false                                                                                                                                                                                                                                                                                                            \n",
      " operationMetrics    | {numTargetRowsCopied -> 798, numTargetRowsDeleted -> 0, numTargetFilesAdded -> 1, executionTimeMs -> 1220, numTargetRowsInserted -> 0, scanTimeMs -> 650, numTargetRowsUpdated -> 2, numOutputRows -> 800, numTargetChangeFilesAdded -> 0, numSourceRows -> 2, numTargetFilesRemoved -> 1, rewriteTimeMs -> 567} \n",
      " userMetadata        | null                                                                                                                                                                                                                                                                                                             \n",
      " engineInfo          | Apache-Spark/3.2.1 Delta-Lake/2.0.2                                                                                                                                                                                                                                                                              \n",
      "-RECORD 1-------------------------------------------------------------------------------------------------------------------------------------------------------------------------------------------------------------------------------------------------------------------------------------------------------------------------------\n",
      " version             | 1                                                                                                                                                                                                                                                                                                                \n",
      " timestamp           | 2025-05-07 12:27:55.754                                                                                                                                                                                                                                                                                          \n",
      " userId              | null                                                                                                                                                                                                                                                                                                             \n",
      " userName            | null                                                                                                                                                                                                                                                                                                             \n",
      " operation           | UPDATE                                                                                                                                                                                                                                                                                                           \n",
      " operationParameters | {predicate -> (email#709 = marcos.collier@email.com)}                                                                                                                                                                                                                                                            \n",
      " job                 | null                                                                                                                                                                                                                                                                                                             \n",
      " notebook            | null                                                                                                                                                                                                                                                                                                             \n",
      " clusterId           | null                                                                                                                                                                                                                                                                                                             \n",
      " readVersion         | 0                                                                                                                                                                                                                                                                                                                \n",
      " isolationLevel      | Serializable                                                                                                                                                                                                                                                                                                     \n",
      " isBlindAppend       | false                                                                                                                                                                                                                                                                                                            \n",
      " operationMetrics    | {numRemovedFiles -> 1, numCopiedRows -> 799, numAddedChangeFiles -> 0, executionTimeMs -> 287, scanTimeMs -> 201, numAddedFiles -> 1, numUpdatedRows -> 1, rewriteTimeMs -> 86}                                                                                                                                  \n",
      " userMetadata        | null                                                                                                                                                                                                                                                                                                             \n",
      " engineInfo          | Apache-Spark/3.2.1 Delta-Lake/2.0.2                                                                                                                                                                                                                                                                              \n",
      "only showing top 2 rows\n",
      "\n"
     ]
    }
   ],
   "source": [
    "history_delta.show(\n",
    "    vertical=True,  \n",
    "    truncate=False,\n",
    "    n=2\n",
    ")"
   ]
  },
  {
   "cell_type": "code",
   "execution_count": 32,
   "id": "03c87ee4",
   "metadata": {
    "tags": []
   },
   "outputs": [
    {
     "name": "stdout",
     "output_type": "stream",
     "text": [
      "+-------+---------+-----------------------+--------------------------------------------------------------+\n",
      "|version|operation|timestamp              |operationMetrics                                              |\n",
      "+-------+---------+-----------------------+--------------------------------------------------------------+\n",
      "|0      |WRITE    |2025-05-07 12:27:44.006|{numFiles -> 1, numOutputRows -> 800, numOutputBytes -> 14621}|\n",
      "+-------+---------+-----------------------+--------------------------------------------------------------+\n",
      "\n"
     ]
    }
   ],
   "source": [
    "#mostrando ultima escrita\n",
    "(\n",
    "    history_delta\n",
    "    .select(\"version\",\n",
    "            \"operation\",\n",
    "            \"timestamp\",\n",
    "            \"operationMetrics\"\n",
    "    )\n",
    "    .where(\"operation == 'WRITE'\")\n",
    "    .show(truncate=False)\n",
    ")"
   ]
  },
  {
   "cell_type": "code",
   "execution_count": 33,
   "id": "91dbbd83",
   "metadata": {
    "tags": []
   },
   "outputs": [
    {
     "name": "stdout",
     "output_type": "stream",
     "text": [
      "VIAJANDO NO TEMPO PARA A VERSÃO 0 DA INGESTÃO\n",
      "+-------+------------------------+\n",
      "|user_id|email                   |\n",
      "+-------+------------------------+\n",
      "|3650   |jonah.barrows@email.com |\n",
      "|3395   |marcos.collier@email.com|\n",
      "+-------+------------------------+\n",
      "\n"
     ]
    }
   ],
   "source": [
    "time_travel_version_0 = (\n",
    "    spark\n",
    "    .read\n",
    "    .format(\"delta\")\n",
    "    .option(\"versionAsOf\", \"0\")\n",
    "    .load(path_bronze[\"user\"])\n",
    ")\n",
    "\n",
    "print(\"VIAJANDO NO TEMPO PARA A VERSÃO 0 DA INGESTÃO\")\n",
    "(\n",
    "    time_travel_version_0\n",
    "    .where(\"user_id in (3650, 3395)\")\n",
    "    .show(truncate=False)\n",
    ")"
   ]
  },
  {
   "cell_type": "code",
   "execution_count": 35,
   "id": "9871479d",
   "metadata": {
    "tags": []
   },
   "outputs": [
    {
     "name": "stdout",
     "output_type": "stream",
     "text": [
      "-RECORD 0--------------------------------------------------------------------------\n",
      " version          | 0                                                              \n",
      " operation        | WRITE                                                          \n",
      " timestamp        | 2025-05-07 12:27:44.006                                        \n",
      " operationMetrics | {numFiles -> 1, numOutputRows -> 800, numOutputBytes -> 14621} \n",
      "\n"
     ]
    }
   ],
   "source": [
    "(\n",
    "    history_delta\n",
    "    .select(\"version\",\n",
    "            \"operation\",\n",
    "            \"timestamp\",\n",
    "            \"operationMetrics\"\n",
    "    )\n",
    "    .where(\"operation == 'WRITE'\")\n",
    "    .show(vertical=True, \n",
    "          truncate=False\n",
    "    )\n",
    ")"
   ]
  },
  {
   "cell_type": "code",
   "execution_count": 36,
   "id": "a4b6d04a-3243-4cc0-aebf-0eec94a80580",
   "metadata": {
    "tags": []
   },
   "outputs": [],
   "source": [
    "last_timestamp = history_delta.select(\"timestamp\").collect()[0][0]"
   ]
  },
  {
   "cell_type": "code",
   "execution_count": 37,
   "id": "00179389",
   "metadata": {
    "tags": []
   },
   "outputs": [
    {
     "name": "stdout",
     "output_type": "stream",
     "text": [
      "VIAJANDO NO TEMPO PARA DATA/HORA QUE HOUVE O UPSERT DOS DADOS\n",
      "+-------+---------------------+\n",
      "|user_id|email                |\n",
      "+-------+---------------------+\n",
      "|3395   |example@gmail.com    |\n",
      "|3650   |example1@gmail.com.br|\n",
      "+-------+---------------------+\n",
      "\n"
     ]
    }
   ],
   "source": [
    "time_travel_timestamp = (\n",
    "    spark\n",
    "    .read\n",
    "    .format(\"delta\")\n",
    "    .option(\"timestampAsOf\", last_timestamp) # register timestamp\n",
    "    .load(path_bronze[\"user\"])\n",
    ")\n",
    "\n",
    "print(\"VIAJANDO NO TEMPO PARA DATA/HORA QUE HOUVE O UPSERT DOS DADOS\")\n",
    "\n",
    "time_travel_timestamp.where(\"user_id in (3650, 3395)\").show(truncate=False)"
   ]
  },
  {
   "cell_type": "markdown",
   "id": "b101ede6",
   "metadata": {},
   "source": [
    "## Comparando modificações entre diferentes versões do Delta"
   ]
  },
  {
   "cell_type": "code",
   "execution_count": 42,
   "id": "348a0361-39b5-49b8-862c-b56ce9649d20",
   "metadata": {
    "tags": []
   },
   "outputs": [
    {
     "name": "stdout",
     "output_type": "stream",
     "text": [
      "+-------+--------------------+\n",
      "|user_id|               email|\n",
      "+-------+--------------------+\n",
      "|   3650|jonah.barrows@ema...|\n",
      "|   3395|marcos.collier@em...|\n",
      "+-------+--------------------+\n",
      "\n"
     ]
    }
   ],
   "source": [
    "time_travel_version_0.where(\"user_id in (3650, 3395)\").show()"
   ]
  },
  {
   "cell_type": "code",
   "execution_count": 38,
   "id": "dd0af398",
   "metadata": {
    "tags": []
   },
   "outputs": [
    {
     "name": "stdout",
     "output_type": "stream",
     "text": [
      "+-------+---------------------+\n",
      "|user_id|email                |\n",
      "+-------+---------------------+\n",
      "|3650   |example1@gmail.com.br|\n",
      "|3395   |example@gmail.com    |\n",
      "+-------+---------------------+\n",
      "\n"
     ]
    }
   ],
   "source": [
    "time_travel_timestamp.exceptAll(time_travel_version_0).show(truncate=False)"
   ]
  },
  {
   "cell_type": "markdown",
   "id": "c1810ab5",
   "metadata": {},
   "source": [
    "## Evolution Schema (Evolução da estrutura da Tabela)"
   ]
  },
  {
   "cell_type": "markdown",
   "id": "1d042f62-b503-4f56-affd-db013a9f00fc",
   "metadata": {},
   "source": [
    "## Concistencia do DADO (ACID) - C"
   ]
  },
  {
   "cell_type": "code",
   "execution_count": 43,
   "id": "ccc85f6e-1c93-4fd0-a540-cb137ec2471d",
   "metadata": {
    "tags": []
   },
   "outputs": [
    {
     "name": "stdout",
     "output_type": "stream",
     "text": [
      "********************\n",
      "NOVA COLUNA A SER INSERIDA\n",
      "root\n",
      " |-- user_id: long (nullable = true)\n",
      " |-- email: string (nullable = true)\n",
      " |-- gender: string (nullable = true)\n",
      "\n",
      "********************\n",
      "ÚLTIMO ESTADO DA TABELA DELTA\n",
      "root\n",
      " |-- user_id: long (nullable = true)\n",
      " |-- email: string (nullable = true)\n",
      "\n"
     ]
    }
   ],
   "source": [
    "df_user = (\n",
    "    spark\n",
    "    .read\n",
    "    .format(\"json\")\n",
    "    .load(path_landing[\"user\"])\n",
    "    .select(\"user_id\", \"email\", \"gender\")\n",
    ")\n",
    "\n",
    "print(\"*\"*20)\n",
    "print(\"NOVA COLUNA A SER INSERIDA\")\n",
    "df_user.printSchema()\n",
    "print(\"*\"*20)\n",
    "print(\"ÚLTIMO ESTADO DA TABELA DELTA\")\n",
    "delta_atualizado.printSchema()"
   ]
  },
  {
   "cell_type": "markdown",
   "id": "b4214c45-e25e-4dea-873f-657bd98cb283",
   "metadata": {},
   "source": [
    "## Tentativa de Sobrescrever o dado sem evoluir o Schema (Concistência)"
   ]
  },
  {
   "cell_type": "code",
   "execution_count": 45,
   "id": "d27e07f6-2837-4ece-a2da-529bcabaa0d4",
   "metadata": {
    "tags": []
   },
   "outputs": [
    {
     "ename": "AnalysisException",
     "evalue": "A schema mismatch detected when writing to the Delta table (Table ID: 736339a6-9672-4f19-88e3-01503aec0f92).\nTo enable schema migration using DataFrameWriter or DataStreamWriter, please set:\n'.option(\"mergeSchema\", \"true\")'.\nFor other operations, set the session configuration\nspark.databricks.delta.schema.autoMerge.enabled to \"true\". See the documentation\nspecific to the operation for details.\n\nTable schema:\nroot\n-- user_id: long (nullable = true)\n-- email: string (nullable = true)\n\n\nData schema:\nroot\n-- user_id: long (nullable = true)\n-- email: string (nullable = true)\n-- gender: string (nullable = true)\n\n         \nTo overwrite your schema or change partitioning, please set:\n'.option(\"overwriteSchema\", \"true\")'.\n\nNote that the schema can't be overwritten when using\n'replaceWhere'.\n         ",
     "output_type": "error",
     "traceback": [
      "\u001b[0;31m---------------------------------------------------------------------------\u001b[0m",
      "\u001b[0;31mAnalysisException\u001b[0m                         Traceback (most recent call last)",
      "Input \u001b[0;32mIn [45]\u001b[0m, in \u001b[0;36m<cell line: 2>\u001b[0;34m()\u001b[0m\n\u001b[1;32m      1\u001b[0m (\n\u001b[1;32m      2\u001b[0m     \u001b[43mdf_user\u001b[49m\n\u001b[1;32m      3\u001b[0m \u001b[43m    \u001b[49m\u001b[38;5;241;43m.\u001b[39;49m\u001b[43mwrite\u001b[49m\n\u001b[1;32m      4\u001b[0m \u001b[43m    \u001b[49m\u001b[38;5;241;43m.\u001b[39;49m\u001b[43mformat\u001b[49m\u001b[43m(\u001b[49m\u001b[38;5;124;43m\"\u001b[39;49m\u001b[38;5;124;43mdelta\u001b[39;49m\u001b[38;5;124;43m\"\u001b[39;49m\u001b[43m)\u001b[49m\n\u001b[1;32m      5\u001b[0m \u001b[43m    \u001b[49m\u001b[38;5;241;43m.\u001b[39;49m\u001b[43mmode\u001b[49m\u001b[43m(\u001b[49m\u001b[38;5;124;43m\"\u001b[39;49m\u001b[38;5;124;43moverwrite\u001b[39;49m\u001b[38;5;124;43m\"\u001b[39;49m\u001b[43m)\u001b[49m\n\u001b[0;32m----> 6\u001b[0m \u001b[43m    \u001b[49m\u001b[38;5;241;43m.\u001b[39;49m\u001b[43msave\u001b[49m\u001b[43m(\u001b[49m\u001b[43mpath_bronze\u001b[49m\u001b[43m[\u001b[49m\u001b[38;5;124;43m\"\u001b[39;49m\u001b[38;5;124;43muser\u001b[39;49m\u001b[38;5;124;43m\"\u001b[39;49m\u001b[43m]\u001b[49m\u001b[43m)\u001b[49m\n\u001b[1;32m      7\u001b[0m )\n",
      "File \u001b[0;32m/usr/local/spark/python/pyspark/sql/readwriter.py:740\u001b[0m, in \u001b[0;36mDataFrameWriter.save\u001b[0;34m(self, path, format, mode, partitionBy, **options)\u001b[0m\n\u001b[1;32m    738\u001b[0m     \u001b[38;5;28mself\u001b[39m\u001b[38;5;241m.\u001b[39m_jwrite\u001b[38;5;241m.\u001b[39msave()\n\u001b[1;32m    739\u001b[0m \u001b[38;5;28;01melse\u001b[39;00m:\n\u001b[0;32m--> 740\u001b[0m     \u001b[38;5;28;43mself\u001b[39;49m\u001b[38;5;241;43m.\u001b[39;49m\u001b[43m_jwrite\u001b[49m\u001b[38;5;241;43m.\u001b[39;49m\u001b[43msave\u001b[49m\u001b[43m(\u001b[49m\u001b[43mpath\u001b[49m\u001b[43m)\u001b[49m\n",
      "File \u001b[0;32m/usr/local/spark/python/lib/py4j-0.10.9.3-src.zip/py4j/java_gateway.py:1321\u001b[0m, in \u001b[0;36mJavaMember.__call__\u001b[0;34m(self, *args)\u001b[0m\n\u001b[1;32m   1315\u001b[0m command \u001b[38;5;241m=\u001b[39m proto\u001b[38;5;241m.\u001b[39mCALL_COMMAND_NAME \u001b[38;5;241m+\u001b[39m\\\n\u001b[1;32m   1316\u001b[0m     \u001b[38;5;28mself\u001b[39m\u001b[38;5;241m.\u001b[39mcommand_header \u001b[38;5;241m+\u001b[39m\\\n\u001b[1;32m   1317\u001b[0m     args_command \u001b[38;5;241m+\u001b[39m\\\n\u001b[1;32m   1318\u001b[0m     proto\u001b[38;5;241m.\u001b[39mEND_COMMAND_PART\n\u001b[1;32m   1320\u001b[0m answer \u001b[38;5;241m=\u001b[39m \u001b[38;5;28mself\u001b[39m\u001b[38;5;241m.\u001b[39mgateway_client\u001b[38;5;241m.\u001b[39msend_command(command)\n\u001b[0;32m-> 1321\u001b[0m return_value \u001b[38;5;241m=\u001b[39m \u001b[43mget_return_value\u001b[49m\u001b[43m(\u001b[49m\n\u001b[1;32m   1322\u001b[0m \u001b[43m    \u001b[49m\u001b[43manswer\u001b[49m\u001b[43m,\u001b[49m\u001b[43m \u001b[49m\u001b[38;5;28;43mself\u001b[39;49m\u001b[38;5;241;43m.\u001b[39;49m\u001b[43mgateway_client\u001b[49m\u001b[43m,\u001b[49m\u001b[43m \u001b[49m\u001b[38;5;28;43mself\u001b[39;49m\u001b[38;5;241;43m.\u001b[39;49m\u001b[43mtarget_id\u001b[49m\u001b[43m,\u001b[49m\u001b[43m \u001b[49m\u001b[38;5;28;43mself\u001b[39;49m\u001b[38;5;241;43m.\u001b[39;49m\u001b[43mname\u001b[49m\u001b[43m)\u001b[49m\n\u001b[1;32m   1324\u001b[0m \u001b[38;5;28;01mfor\u001b[39;00m temp_arg \u001b[38;5;129;01min\u001b[39;00m temp_args:\n\u001b[1;32m   1325\u001b[0m     temp_arg\u001b[38;5;241m.\u001b[39m_detach()\n",
      "File \u001b[0;32m/usr/local/spark/python/pyspark/sql/utils.py:117\u001b[0m, in \u001b[0;36mcapture_sql_exception.<locals>.deco\u001b[0;34m(*a, **kw)\u001b[0m\n\u001b[1;32m    113\u001b[0m converted \u001b[38;5;241m=\u001b[39m convert_exception(e\u001b[38;5;241m.\u001b[39mjava_exception)\n\u001b[1;32m    114\u001b[0m \u001b[38;5;28;01mif\u001b[39;00m \u001b[38;5;129;01mnot\u001b[39;00m \u001b[38;5;28misinstance\u001b[39m(converted, UnknownException):\n\u001b[1;32m    115\u001b[0m     \u001b[38;5;66;03m# Hide where the exception came from that shows a non-Pythonic\u001b[39;00m\n\u001b[1;32m    116\u001b[0m     \u001b[38;5;66;03m# JVM exception message.\u001b[39;00m\n\u001b[0;32m--> 117\u001b[0m     \u001b[38;5;28;01mraise\u001b[39;00m converted \u001b[38;5;28;01mfrom\u001b[39;00m \u001b[38;5;28mNone\u001b[39m\n\u001b[1;32m    118\u001b[0m \u001b[38;5;28;01melse\u001b[39;00m:\n\u001b[1;32m    119\u001b[0m     \u001b[38;5;28;01mraise\u001b[39;00m\n",
      "\u001b[0;31mAnalysisException\u001b[0m: A schema mismatch detected when writing to the Delta table (Table ID: 736339a6-9672-4f19-88e3-01503aec0f92).\nTo enable schema migration using DataFrameWriter or DataStreamWriter, please set:\n'.option(\"mergeSchema\", \"true\")'.\nFor other operations, set the session configuration\nspark.databricks.delta.schema.autoMerge.enabled to \"true\". See the documentation\nspecific to the operation for details.\n\nTable schema:\nroot\n-- user_id: long (nullable = true)\n-- email: string (nullable = true)\n\n\nData schema:\nroot\n-- user_id: long (nullable = true)\n-- email: string (nullable = true)\n-- gender: string (nullable = true)\n\n         \nTo overwrite your schema or change partitioning, please set:\n'.option(\"overwriteSchema\", \"true\")'.\n\nNote that the schema can't be overwritten when using\n'replaceWhere'.\n         "
     ]
    }
   ],
   "source": [
    "(\n",
    "    df_user\n",
    "    .write\n",
    "    .format(\"delta\")\n",
    "    .mode(\"overwrite\")\n",
    "    .save(path_bronze[\"user\"])\n",
    ")"
   ]
  },
  {
   "cell_type": "markdown",
   "id": "43487a9f-0134-4e53-a4cb-b44cc460e4a7",
   "metadata": {},
   "source": [
    "## Realizando a evolução do Schema com a opção MergeSchema\n",
    "- A opção mergeSchema vai substituir tudo que não existir no último estado com o valor padrão nulo."
   ]
  },
  {
   "cell_type": "code",
   "execution_count": 46,
   "id": "bc7c590d",
   "metadata": {
    "tags": []
   },
   "outputs": [],
   "source": [
    "(\n",
    "    df_user\n",
    "    .write\n",
    "    .format(\"delta\")\n",
    "    .mode(\"overwrite\")\n",
    "    .option(\"mergeSchema\", True)\n",
    "    .save(path_bronze[\"user\"])\n",
    ")"
   ]
  },
  {
   "cell_type": "markdown",
   "id": "77a3573b-f3ab-4b10-b48d-76478e067c07",
   "metadata": {},
   "source": [
    "## Lendo os dados após o MergeSchema"
   ]
  },
  {
   "cell_type": "code",
   "execution_count": 47,
   "id": "cd8be71c-4f5f-4a91-89fb-f990dd675eb6",
   "metadata": {
    "tags": []
   },
   "outputs": [
    {
     "name": "stdout",
     "output_type": "stream",
     "text": [
      "********************\n",
      "ESTRUTURA DA TABELA DELTA\n",
      "root\n",
      " |-- user_id: long (nullable = true)\n",
      " |-- email: string (nullable = true)\n",
      " |-- gender: string (nullable = true)\n",
      "\n",
      "********************\n",
      "VISUALIZANDO TABELA DELTA\n",
      "+-------+--------------------+-----------+\n",
      "|user_id|               email|     gender|\n",
      "+-------+--------------------+-----------+\n",
      "|   3395|marcos.collier@em...|   Bigender|\n",
      "|   1556|elina.hills@email...| Non-binary|\n",
      "|   1879|enedina.schroeder...|     Female|\n",
      "|   7805|colin.ryan@email.com|       Male|\n",
      "|   3982|dallas.boyle@emai...| Polygender|\n",
      "|   7274|grover.towne@emai...|    Agender|\n",
      "|   3184|dexter.schmitt@em...|Genderfluid|\n",
      "|    550|novella.weber@ema...|Genderqueer|\n",
      "|   8365|lesley.mccullough...|       Male|\n",
      "|   4942|marti.marks@email...|   Bigender|\n",
      "|   8327|shawnna.keebler@e...|Genderfluid|\n",
      "|   9464|guillermo.beahan@...|   Bigender|\n",
      "|   4123|sid.bechtelar@ema...| Non-binary|\n",
      "|   2281|merrill.upton@ema...|     Female|\n",
      "|   6998|felipe.ward@email...|    Agender|\n",
      "|   7440|willie.walsh@emai...|       Male|\n",
      "|   8397|jae.krajcik@email...| Polygender|\n",
      "|   9437|wilfredo.bailey@e...| Polygender|\n",
      "|   3148|josefa.marvin@ema...|     Female|\n",
      "|   2535|loyd.hintz@email.com| Polygender|\n",
      "+-------+--------------------+-----------+\n",
      "only showing top 20 rows\n",
      "\n"
     ]
    }
   ],
   "source": [
    "df_user = (\n",
    "    spark\n",
    "    .read\n",
    "    .format(\"delta\")\n",
    "    .load(path_bronze[\"user\"])\n",
    "    .select(\"user_id\", \"email\", \"gender\")\n",
    ")\n",
    "\n",
    "print(\"*\"*20)\n",
    "print(\"ESTRUTURA DA TABELA DELTA\")\n",
    "df_user.printSchema()\n",
    "print(\"*\"*20)\n",
    "print(\"VISUALIZANDO TABELA DELTA\")\n",
    "df_user.show()"
   ]
  },
  {
   "cell_type": "markdown",
   "id": "c6a01fde-4aba-4925-9e37-aabfb7f00aac",
   "metadata": {},
   "source": [
    "## Removendo coluna e fazendo o MergeSchema novamente"
   ]
  },
  {
   "cell_type": "code",
   "execution_count": 49,
   "id": "e6b2fe23-b230-4247-a3fb-8c9849196242",
   "metadata": {
    "tags": []
   },
   "outputs": [
    {
     "name": "stdout",
     "output_type": "stream",
     "text": [
      "root\n",
      " |-- user_id: long (nullable = true)\n",
      " |-- email: string (nullable = true)\n",
      "\n"
     ]
    }
   ],
   "source": [
    "df_user = df_user.drop(\"gender\")\n",
    "df_user.printSchema()"
   ]
  },
  {
   "cell_type": "code",
   "execution_count": 50,
   "id": "84cf6667-224e-405f-993f-76af28417d4b",
   "metadata": {
    "tags": []
   },
   "outputs": [],
   "source": [
    "(\n",
    "    df_user\n",
    "    .write\n",
    "    .format(\"delta\")\n",
    "    .mode(\"overwrite\")\n",
    "    .option(\"mergeSchema\", True)\n",
    "    .save(path_bronze[\"user\"])\n",
    ")"
   ]
  },
  {
   "cell_type": "markdown",
   "id": "95a0df0f-cb67-4e0f-b473-cc63e2887124",
   "metadata": {},
   "source": [
    "## Lendo os dados após o MergeSchema"
   ]
  },
  {
   "cell_type": "code",
   "execution_count": 51,
   "id": "c3ee8baa-f0ad-498d-9101-d2c1f2048965",
   "metadata": {
    "tags": []
   },
   "outputs": [
    {
     "name": "stdout",
     "output_type": "stream",
     "text": [
      "********************\n",
      "ESTRUTURA DA TABELA DELTA\n",
      "root\n",
      " |-- user_id: long (nullable = true)\n",
      " |-- email: string (nullable = true)\n",
      " |-- gender: string (nullable = true)\n",
      "\n",
      "********************\n",
      "VISUALIZANDO TABELA DELTA\n",
      "+-------+--------------------+------+\n",
      "|user_id|               email|gender|\n",
      "+-------+--------------------+------+\n",
      "|   5795|sudie.witting@ema...|  null|\n",
      "|   3130|dalila.orn@email.com|  null|\n",
      "|   8677|forest.macgyver@e...|  null|\n",
      "|   4915|cyndy.hand@email.com|  null|\n",
      "|   5995|darrin.kertzmann@...|  null|\n",
      "|   8092|jeremy.corwin@ema...|  null|\n",
      "|   4941|france.reilly@ema...|  null|\n",
      "|   8658|clay.vandervort@e...|  null|\n",
      "|   1907|trevor.green@emai...|  null|\n",
      "|   7275|darell.prohaska@e...|  null|\n",
      "|   9558| jaye.kihn@email.com|  null|\n",
      "|   8276|luise.pagac@email...|  null|\n",
      "|   5530|hollis.goyette@em...|  null|\n",
      "|   2894|erika.turcotte@em...|  null|\n",
      "|   6878|virgilio.kling@em...|  null|\n",
      "|   1295|benny.bashirian@e...|  null|\n",
      "|   5445|gerri.lesch@email...|  null|\n",
      "|   6104|fleta.anderson@em...|  null|\n",
      "|   6344|wilfredo.von@emai...|  null|\n",
      "|   8294|nereida.tillman@e...|  null|\n",
      "+-------+--------------------+------+\n",
      "only showing top 20 rows\n",
      "\n"
     ]
    }
   ],
   "source": [
    "df_user = (\n",
    "    spark\n",
    "    .read\n",
    "    .format(\"delta\")\n",
    "    .load(path_bronze[\"user\"])\n",
    "    .select(\"user_id\", \"email\", \"gender\")\n",
    ")\n",
    "\n",
    "print(\"*\"*20)\n",
    "print(\"ESTRUTURA DA TABELA DELTA\")\n",
    "df_user.printSchema()\n",
    "print(\"*\"*20)\n",
    "print(\"VISUALIZANDO TABELA DELTA\")\n",
    "df_user.show()"
   ]
  },
  {
   "cell_type": "markdown",
   "id": "04edb6d3",
   "metadata": {},
   "source": [
    "## Realizando a evolução do Schema com a opção Overwrite Schema\n",
    "- A opção Overwrite Schema vai gravar uma nova versão da tabela delta removendo a coluna de forma literal."
   ]
  },
  {
   "cell_type": "code",
   "execution_count": 52,
   "id": "1a6e76d2",
   "metadata": {
    "tags": []
   },
   "outputs": [
    {
     "name": "stdout",
     "output_type": "stream",
     "text": [
      "********************\n",
      "ESTRUTURA DA TABELA DELTA\n",
      "root\n",
      " |-- user_id: long (nullable = true)\n",
      " |-- email: string (nullable = true)\n",
      "\n",
      "********************\n",
      "VISUALIZANDO TABELA DELTA\n",
      "+-------+--------------------+\n",
      "|user_id|               email|\n",
      "+-------+--------------------+\n",
      "|   1703|daron.bailey@emai...|\n",
      "|   3650|jonah.barrows@ema...|\n",
      "|   8809|carla.hansen@emai...|\n",
      "|   4606|tomas.ledner@emai...|\n",
      "|      1|alyse.ortiz@email...|\n",
      "|   9245|russell.kulas@ema...|\n",
      "|   3425|armida.lehner@ema...|\n",
      "|   4264|tad.sanford@email...|\n",
      "|   1668|rosia.jones@email...|\n",
      "|    343|candy.conroy@emai...|\n",
      "|   7393|dulcie.gottlieb@e...|\n",
      "|   3909|rodrigo.reynolds@...|\n",
      "|   9952|jenna.bode@email.com|\n",
      "|   2364|dan.herman@email.com|\n",
      "|   1611|stanley.witting@e...|\n",
      "|   1723|clarinda.kilback@...|\n",
      "|   7032|charley.carroll@e...|\n",
      "|    549|cameron.harris@em...|\n",
      "|   4161|reyes.stracke@ema...|\n",
      "|    503|jolynn.schulist@e...|\n",
      "+-------+--------------------+\n",
      "only showing top 20 rows\n",
      "\n"
     ]
    }
   ],
   "source": [
    "df_user = (\n",
    "    spark\n",
    "    .read\n",
    "    .format(\"json\")\n",
    "    .load(path_landing[\"user\"])\n",
    "    .select(\"user_id\",\"email\",\"gender\")\n",
    ")\n",
    "\n",
    "df_user = df_user.drop(\"gender\")\n",
    "print(\"*\"*20)\n",
    "print(\"ESTRUTURA DA TABELA DELTA\")\n",
    "df_user.printSchema()\n",
    "print(\"*\"*20)\n",
    "print(\"VISUALIZANDO TABELA DELTA\")\n",
    "df_user.show()"
   ]
  },
  {
   "cell_type": "markdown",
   "id": "09cc6119-edfc-4e97-9e8f-57acc29bb87d",
   "metadata": {},
   "source": [
    "## Sobrescrevendo a estrutura da Tabela"
   ]
  },
  {
   "cell_type": "code",
   "execution_count": 53,
   "id": "55610a10-5f61-481a-bbfb-494c0c32ac89",
   "metadata": {
    "tags": []
   },
   "outputs": [],
   "source": [
    "(\n",
    "    df_user\n",
    "    .write\n",
    "    .format(\"delta\")\n",
    "    .mode(\"overwrite\")\n",
    "    .option(\"overwriteSchema\", True)\n",
    "    .save(path_bronze[\"user\"])\n",
    ")"
   ]
  },
  {
   "cell_type": "markdown",
   "id": "00ac28c8-6452-444d-9266-7999d134e141",
   "metadata": {},
   "source": [
    "## Lendo após sobrescrita da estrutura da Tabela"
   ]
  },
  {
   "cell_type": "code",
   "execution_count": 54,
   "id": "515a36b6-a087-4d5c-a65a-c7adbeb73ebb",
   "metadata": {
    "tags": []
   },
   "outputs": [
    {
     "name": "stdout",
     "output_type": "stream",
     "text": [
      "********************\n",
      "ESTRUTURA DA TABELA DELTA\n",
      "root\n",
      " |-- user_id: long (nullable = true)\n",
      " |-- email: string (nullable = true)\n",
      "\n",
      "********************\n",
      "VISUALIZANDO TABELA DELTA\n",
      "+-------+--------------------+\n",
      "|user_id|               email|\n",
      "+-------+--------------------+\n",
      "|   5795|sudie.witting@ema...|\n",
      "|   3130|dalila.orn@email.com|\n",
      "|   8677|forest.macgyver@e...|\n",
      "|   4915|cyndy.hand@email.com|\n",
      "|   5995|darrin.kertzmann@...|\n",
      "|   8092|jeremy.corwin@ema...|\n",
      "|   4941|france.reilly@ema...|\n",
      "|   8658|clay.vandervort@e...|\n",
      "|   1907|trevor.green@emai...|\n",
      "|   7275|darell.prohaska@e...|\n",
      "|   9558| jaye.kihn@email.com|\n",
      "|   8276|luise.pagac@email...|\n",
      "|   5530|hollis.goyette@em...|\n",
      "|   2894|erika.turcotte@em...|\n",
      "|   6878|virgilio.kling@em...|\n",
      "|   1295|benny.bashirian@e...|\n",
      "|   5445|gerri.lesch@email...|\n",
      "|   6104|fleta.anderson@em...|\n",
      "|   6344|wilfredo.von@emai...|\n",
      "|   8294|nereida.tillman@e...|\n",
      "+-------+--------------------+\n",
      "only showing top 20 rows\n",
      "\n"
     ]
    }
   ],
   "source": [
    "df_user = (\n",
    "    spark\n",
    "    .read\n",
    "    .format(\"delta\")\n",
    "    .load(path_bronze[\"user\"])\n",
    ")\n",
    "\n",
    "print(\"*\"*20)\n",
    "print(\"ESTRUTURA DA TABELA DELTA\")\n",
    "df_user.printSchema()\n",
    "print(\"*\"*20)\n",
    "print(\"VISUALIZANDO TABELA DELTA\")\n",
    "df_user.show()"
   ]
  },
  {
   "cell_type": "markdown",
   "id": "6f1d500e",
   "metadata": {},
   "source": [
    "## Forma fácil de realizar uma Migração de Data Lake para Delta"
   ]
  },
  {
   "cell_type": "code",
   "execution_count": 61,
   "id": "3b9dd94f",
   "metadata": {
    "tags": []
   },
   "outputs": [],
   "source": [
    "#deltaTable = DeltaTable.convertToDelta(spark, f\"parquet. `./landing-zone/legacy-parquet-user/`\")\n",
    "deltaTable = DeltaTable.forPath(spark, \"./landing-zone/legacy-parquet-user/\")"
   ]
  },
  {
   "cell_type": "code",
   "execution_count": 62,
   "id": "e9ebb00f-437e-4862-a853-57d4125041ae",
   "metadata": {
    "tags": []
   },
   "outputs": [
    {
     "name": "stdout",
     "output_type": "stream",
     "text": [
      "-RECORD 0--------------------------------------------------------------------------\n",
      " version             | 0                                                           \n",
      " timestamp           | 2025-05-07 12:39:43.098                                     \n",
      " userId              | null                                                        \n",
      " userName            | null                                                        \n",
      " operation           | CONVERT                                                     \n",
      " operationParameters | {numFiles -> 4, partitionedBy -> [], collectStats -> false} \n",
      " job                 | null                                                        \n",
      " notebook            | null                                                        \n",
      " clusterId           | null                                                        \n",
      " readVersion         | -1                                                          \n",
      " isolationLevel      | Serializable                                                \n",
      " isBlindAppend       | false                                                       \n",
      " operationMetrics    | {numConvertedFiles -> 4}                                    \n",
      " userMetadata        | null                                                        \n",
      " engineInfo          | Apache-Spark/3.2.1 Delta-Lake/2.0.2                         \n",
      "\n"
     ]
    }
   ],
   "source": [
    "deltaTable.history().show(truncate=False,vertical=True)"
   ]
  },
  {
   "cell_type": "markdown",
   "id": "f4ed202f-ee58-46f7-a94d-10700ec05a68",
   "metadata": {},
   "source": [
    "# Melhorando a performace para consulta reduzindo os small files"
   ]
  },
  {
   "cell_type": "code",
   "execution_count": 63,
   "id": "8221972c-8529-440c-9157-cd5dedf41ac8",
   "metadata": {
    "tags": []
   },
   "outputs": [],
   "source": [
    "deltaTable = DeltaTable.forPath(spark, \"./bronze-zone/user/\")"
   ]
  },
  {
   "cell_type": "code",
   "execution_count": 64,
   "id": "9bbe9621-dc01-4fdd-8fb1-072f856a2736",
   "metadata": {
    "tags": []
   },
   "outputs": [
    {
     "data": {
      "text/plain": [
       "DataFrame[path: string, metrics: struct<numFilesAdded:bigint,numFilesRemoved:bigint,filesAdded:struct<min:bigint,max:bigint,avg:double,totalFiles:bigint,totalSize:bigint>,filesRemoved:struct<min:bigint,max:bigint,avg:double,totalFiles:bigint,totalSize:bigint>,partitionsOptimized:bigint,zOrderStats:struct<strategyName:string,inputCubeFiles:struct<num:bigint,size:bigint>,inputOtherFiles:struct<num:bigint,size:bigint>,inputNumCubes:bigint,mergedFiles:struct<num:bigint,size:bigint>,numOutputCubes:bigint,mergedNumCubes:bigint>,numBatches:bigint,totalConsideredFiles:bigint,totalFilesSkipped:bigint,preserveInsertionOrder:boolean,numFilesSkippedToReduceWriteAmplification:bigint,numBytesSkippedToReduceWriteAmplification:bigint,startTimeMs:bigint,endTimeMs:bigint>]"
      ]
     },
     "execution_count": 64,
     "metadata": {},
     "output_type": "execute_result"
    }
   ],
   "source": [
    "deltaTable.optimize().executeCompaction()"
   ]
  }
 ],
 "metadata": {
  "kernelspec": {
   "display_name": "Python 3 (ipykernel)",
   "language": "python",
   "name": "python3"
  },
  "language_info": {
   "codemirror_mode": {
    "name": "ipython",
    "version": 3
   },
   "file_extension": ".py",
   "mimetype": "text/x-python",
   "name": "python",
   "nbconvert_exporter": "python",
   "pygments_lexer": "ipython3",
   "version": "3.10.5"
  }
 },
 "nbformat": 4,
 "nbformat_minor": 5
}
