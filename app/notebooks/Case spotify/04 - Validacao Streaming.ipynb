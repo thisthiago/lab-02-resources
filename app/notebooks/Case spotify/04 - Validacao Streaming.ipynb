{
 "cells": [
  {
   "cell_type": "code",
   "execution_count": null,
   "id": "38f3bda5-7fe5-42e5-8d10-24d68ad3c38b",
   "metadata": {
    "tags": []
   },
   "outputs": [],
   "source": [
    "from pyspark.sql import SparkSession, DataFrame\n",
    "from pyspark.sql import functions as F\n",
    "from pyspark.sql.window import Window\n",
    "from pyspark.sql.utils import AnalysisException\n",
    "from pyspark.sql.types import StructType, StructField, StringType, BinaryType, IntegerType, DoubleType, TimestampType, DateType, LongType\n",
    "from delta.tables import DeltaTable\n",
    "from pyspark.sql.utils import AnalysisException\n",
    "from pyspark.storagelevel import StorageLevel\n",
    "from typing import Union, Optional\n",
    "from pyspark.sql.functions import input_file_name\n",
    "\n",
    "# --- Credenciais AWS ---\n",
    "accessKeyId = \"\"\n",
    "secretAccessKey = \"\"\n",
    "\n",
    "# --- Sessão Spark ---\n",
    "def create_spark_session() -> SparkSession:\n",
    "    spark = (\n",
    "        SparkSession\n",
    "        .builder\n",
    "        .appName(\"Bronze Zone Streaming\")\n",
    "        .config(\"spark.sql.extensions\", \"io.delta.sql.DeltaSparkSessionExtension\")\n",
    "        .config(\"spark.sql.catalog.spark_catalog\", \"org.apache.spark.sql.delta.catalog.DeltaCatalog\")\n",
    "        .enableHiveSupport()\n",
    "        .getOrCreate()\n",
    "    )\n",
    "    \n",
    "    spark.sparkContext.setLogLevel(\"WARN\")\n",
    "\n",
    "    conf = spark.sparkContext._jsc.hadoopConfiguration()\n",
    "    conf.set(\"spark.hadoop.fs.s3a.aws.credentials.provider\", \"org.apache.hadoop.fs.s3a.TemporaryAWSCredentialsProvider\")\n",
    "    conf.set(\"fs.s3a.impl\", \"org.apache.hadoop.fs.s3a.S3AFileSystem\")\n",
    "    conf.set(\"fs.s3a.fast.upload\", \"true\")\n",
    "    conf.set(\"fs.s3a.bucket.all.committer.magic.enabled\", \"true\")\n",
    "    conf.set(\"fs.s3a.directory.marker.retention\", \"keep\")\n",
    "    conf.set(\"spark.driver.extraClassPath\", \"/usr/local/spark/jars/*\")\n",
    "    conf.set(\"spark.driver.memory\", \"8g\")\n",
    "    conf.set(\"spark.executor.memory\", \"16g\")\n",
    "    conf.set(\"fs.s3a.access.key\", accessKeyId)\n",
    "    conf.set(\"fs.s3a.secret.key\", secretAccessKey)\n",
    "\n",
    "    return spark\n",
    "\n",
    "spark = create_spark_session()"
   ]
  },
  {
   "cell_type": "code",
   "execution_count": 4,
   "id": "2f448bc0-06ad-4633-a172-9571c5a1f9f6",
   "metadata": {
    "tags": []
   },
   "outputs": [],
   "source": [
    "bronze_path = f\"s3a://dev-lab-02-us-east-2-bronze/spotify/\"\n",
    "spark.read.format(\"delta\").load(f\"{bronze_path}usuarios\").createOrReplaceTempView(\"usuarios\")"
   ]
  },
  {
   "cell_type": "code",
   "execution_count": 15,
   "id": "39f7e102-f62d-4341-8450-03fb88567e3f",
   "metadata": {
    "tags": []
   },
   "outputs": [
    {
     "name": "stdout",
     "output_type": "stream",
     "text": [
      "+--------+\n",
      "|count(1)|\n",
      "+--------+\n",
      "|     110|\n",
      "+--------+\n",
      "\n"
     ]
    }
   ],
   "source": [
    "spark.sql(\n",
    "\"\"\"\n",
    "select count(1) from usuarios\n",
    "\"\"\"\n",
    ").show()"
   ]
  },
  {
   "cell_type": "code",
   "execution_count": 14,
   "id": "5d58349d-8238-4a3a-9f29-eff82d9f3c50",
   "metadata": {
    "tags": []
   },
   "outputs": [
    {
     "name": "stdout",
     "output_type": "stream",
     "text": [
      "+---+--------------------+--------------------+-------------------+--------------------+\n",
      "| id|                nome|               email|          timestamp|      origem_arquivo|\n",
      "+---+--------------------+--------------------+-------------------+--------------------+\n",
      "| 22|  Dr. Paulette Aubry|virginie60@exampl...|2025-05-06 15:01:20|s3a://dev-lab-02-...|\n",
      "| 42|       Marvin Staude|siegmar34@example...|2025-05-06 15:01:20|s3a://dev-lab-02-...|\n",
      "| 23|      Jaroslaw Karge|xschlosser@exampl...|2025-05-06 15:01:20|s3a://dev-lab-02-...|\n",
      "| 27| Benigno Ocaña López|victoriagomila@ex...|2025-05-06 15:01:20|s3a://dev-lab-02-...|\n",
      "| 28|  Karl-Heinrich Henk|enginkambs@exampl...|2025-05-06 15:01:20|s3a://dev-lab-02-...|\n",
      "| 11|  Micaela Jara Peiró| cosme82@example.net|2025-05-06 15:01:20|s3a://dev-lab-02-...|\n",
      "| 29|   Sylvie Carpentier| hbrunel@example.net|2025-05-06 15:01:20|s3a://dev-lab-02-...|\n",
      "| 13|        Émilie Baron|charlescapucine@e...|2025-05-06 15:01:20|s3a://dev-lab-02-...|\n",
      "| 30|   Gabrielly Ribeiro|machadovitor@exam...|2025-05-06 15:01:20|s3a://dev-lab-02-...|\n",
      "| 15|     Christine Vidal|uleblanc@example.com|2025-05-06 15:01:20|s3a://dev-lab-02-...|\n",
      "| 31|      Abdul Pergande|mconradi@example.com|2025-05-06 15:01:20|s3a://dev-lab-02-...|\n",
      "| 17|Gustavo Henrique ...|  lnunes@example.com|2025-05-06 15:01:20|s3a://dev-lab-02-...|\n",
      "| 32|Dr. João Felipe M...| rda-paz@example.net|2025-05-06 15:01:20|s3a://dev-lab-02-...|\n",
      "| 19| Ms. Caroline Nguyen|  aime30@example.org|2025-05-06 15:01:20|s3a://dev-lab-02-...|\n",
      "| 33|     Mr. Cauã Araújo|maria-sophia46@ex...|2025-05-06 15:01:20|s3a://dev-lab-02-...|\n",
      "| 21|     Irmtraud Biggen|bzaenker@example.net|2025-05-06 15:01:20|s3a://dev-lab-02-...|\n",
      "| 34|   Sra. Susan Osborn|patricia72@exampl...|2025-05-06 15:01:20|s3a://dev-lab-02-...|\n",
      "| 25|Sr. Jonatan Benav...|cristobal93@examp...|2025-05-06 15:01:20|s3a://dev-lab-02-...|\n",
      "| 35|       Julia da Cruz|   hlima@example.net|2025-05-06 15:01:20|s3a://dev-lab-02-...|\n",
      "| 41|Prof. Dr. Davi Lu...|joao-vitor91@exam...|2025-05-06 15:01:20|s3a://dev-lab-02-...|\n",
      "+---+--------------------+--------------------+-------------------+--------------------+\n",
      "only showing top 20 rows\n",
      "\n"
     ]
    }
   ],
   "source": [
    "spark.sql(\n",
    "\"\"\"\n",
    "select * from usuarios\n",
    "order by timestamp desc\n",
    "\"\"\"\n",
    ").show()"
   ]
  },
  {
   "cell_type": "code",
   "execution_count": 6,
   "id": "b998ec70-fabe-4c98-992c-5f9032d76a21",
   "metadata": {
    "tags": []
   },
   "outputs": [],
   "source": [
    "df_fato_streaming = spark.read.format(\"delta\").load(\"s3a://dev-lab-02-us-east-2-silver/fato_streamings/\")"
   ]
  },
  {
   "cell_type": "code",
   "execution_count": 7,
   "id": "5d68025e-35e5-4a8d-9ee5-7da0a9df57c8",
   "metadata": {
    "tags": []
   },
   "outputs": [
    {
     "data": {
      "text/plain": [
       "550"
      ]
     },
     "execution_count": 7,
     "metadata": {},
     "output_type": "execute_result"
    }
   ],
   "source": [
    "df_fato_streaming.count()"
   ]
  },
  {
   "cell_type": "code",
   "execution_count": 8,
   "id": "87681433-88f4-4281-bbd1-1137b84e6c21",
   "metadata": {
    "tags": []
   },
   "outputs": [
    {
     "data": {
      "text/plain": [
       "1550"
      ]
     },
     "execution_count": 8,
     "metadata": {},
     "output_type": "execute_result"
    }
   ],
   "source": [
    "df_fato_streaming.count()"
   ]
  },
  {
   "cell_type": "code",
   "execution_count": 9,
   "id": "a60edc52-62ad-4582-836f-f44b14646a0a",
   "metadata": {
    "tags": []
   },
   "outputs": [
    {
     "name": "stdout",
     "output_type": "stream",
     "text": [
      "+---+----------+--------------------+------------------+--------------------+--------+-------------------+--------------------+\n",
      "| id|id_usuario|        masked_email|           artista|              musica|flg_feat|          timestamp|      origem_arquivo|\n",
      "+---+----------+--------------------+------------------+--------------------+--------+-------------------+--------------------+\n",
      "|  1|        10|a***********@exam...|Sabrina Carpenter |               Taste|   false|2025-05-07 17:20:19|s3a://dev-lab-02-...|\n",
      "|  2|         9|  f*****@example.org|       Ed Sheeran |        Shape of You|   false|2025-05-07 17:20:19|s3a://dev-lab-02-...|\n",
      "|  3|         3| s******@example.net|     Blood Orange |     Champagne Coast|   false|2025-05-07 17:20:19|s3a://dev-lab-02-...|\n",
      "|  4|         1|a****************...|             d4vd |        Here With Me|   false|2025-05-07 17:20:19|s3a://dev-lab-02-...|\n",
      "|  5|         2|h**********@examp...|       The Weeknd |     Blinding Lights|   false|2025-05-07 17:20:19|s3a://dev-lab-02-...|\n",
      "|  6|         1|a****************...|          TV Girl |         Lovers Rock|   false|2025-05-07 17:20:19|s3a://dev-lab-02-...|\n",
      "|  7|         8|o*********@exampl...|Sabrina Carpenter |               Taste|   false|2025-05-07 17:20:19|s3a://dev-lab-02-...|\n",
      "|  8|         4|l*********@exampl...|    Justin Bieber |          Confident |   false|2025-05-07 17:20:19|s3a://dev-lab-02-...|\n",
      "|  9|         8|o*********@exampl...|     Benson Boone |    Beautiful Things|   false|2025-05-07 17:20:19|s3a://dev-lab-02-...|\n",
      "| 10|         6|m************@exa...|          TV Girl |         Lovers Rock|   false|2025-05-07 17:20:19|s3a://dev-lab-02-...|\n",
      "| 11|         4|l*********@exampl...|        Bad Bunny | VeLDÁ (w/ Omar C...|    true|2025-05-07 17:20:19|s3a://dev-lab-02-...|\n",
      "| 12|         8|o*********@exampl...|         Coldplay |       The Scientist|   false|2025-05-07 17:20:19|s3a://dev-lab-02-...|\n",
      "| 13|         2|h**********@examp...|   Arctic Monkeys |    I Wanna Be Yours|   false|2025-05-07 17:20:19|s3a://dev-lab-02-...|\n",
      "| 14|         1|a****************...|       Neton Vega | Morena (w/ Peso ...|    true|2025-05-07 17:20:19|s3a://dev-lab-02-...|\n",
      "| 15|         5|v********@example...|        Jung Kook |    Seven (w/ Latto)|    true|2025-05-07 17:20:19|s3a://dev-lab-02-...|\n",
      "| 16|         3| s******@example.net|          Nirvana |    Come As You Are |   false|2025-05-07 17:20:19|s3a://dev-lab-02-...|\n",
      "| 17|        10|a***********@exam...|           Eminem |          Without Me|   false|2025-05-07 17:20:19|s3a://dev-lab-02-...|\n",
      "| 18|         3| s******@example.net|            Lorde |                Ribs|   false|2025-05-07 17:20:19|s3a://dev-lab-02-...|\n",
      "| 19|         4|l*********@exampl...|       The Weeknd | One Of The Girls...|    true|2025-05-07 17:20:19|s3a://dev-lab-02-...|\n",
      "| 20|        10|a***********@exam...|         Gorillaz |       Feel Good Inc|   false|2025-05-07 17:20:19|s3a://dev-lab-02-...|\n",
      "+---+----------+--------------------+------------------+--------------------+--------+-------------------+--------------------+\n",
      "only showing top 20 rows\n",
      "\n"
     ]
    }
   ],
   "source": [
    "df_fato_streaming.show()"
   ]
  },
  {
   "cell_type": "code",
   "execution_count": 10,
   "id": "31912532-7251-41d5-812b-55e7bea44844",
   "metadata": {
    "tags": []
   },
   "outputs": [],
   "source": [
    "df_top_artistas = spark.read.format(\"delta\").load(\"s3a://dev-lab-02-us-east-2-gold/top_artistas/\") "
   ]
  },
  {
   "cell_type": "code",
   "execution_count": 11,
   "id": "1b72c2f1-9584-48d6-9fd1-5ad3f42d9e5a",
   "metadata": {
    "tags": []
   },
   "outputs": [
    {
     "name": "stdout",
     "output_type": "stream",
     "text": [
      "+------------------+----------------+--------------------+\n",
      "|           artista|qtd_de_streaming|    data_atualizacao|\n",
      "+------------------+----------------+--------------------+\n",
      "|        Bad Bunny |             126|2025-05-07 19:44:...|\n",
      "|         Coldplay |             116|2025-05-07 19:44:...|\n",
      "|        Lady Gaga |             104|2025-05-07 19:44:...|\n",
      "|     Benson Boone |             103|2025-05-07 19:44:...|\n",
      "|Sabrina Carpenter |              97|2025-05-07 19:44:...|\n",
      "|    Billie Eilish |              92|2025-05-07 19:44:...|\n",
      "|   Arctic Monkeys |              87|2025-05-07 19:44:...|\n",
      "|       Ed Sheeran |              78|2025-05-07 19:44:...|\n",
      "|       Tate McRae |              77|2025-05-07 19:44:...|\n",
      "|      Teddy Swims |              61|2025-05-07 19:44:...|\n",
      "+------------------+----------------+--------------------+\n",
      "\n"
     ]
    }
   ],
   "source": [
    "df_top_artistas.show()"
   ]
  },
  {
   "cell_type": "code",
   "execution_count": 13,
   "id": "880d045a-dfa3-45a9-8dbd-1ab67be192ab",
   "metadata": {
    "tags": []
   },
   "outputs": [
    {
     "name": "stdout",
     "output_type": "stream",
     "text": [
      "+------------------+----------------+--------------------+\n",
      "|           artista|qtd_de_streaming|    data_atualizacao|\n",
      "+------------------+----------------+--------------------+\n",
      "|        Bad Bunny |             395|2025-05-07 20:12:...|\n",
      "|         Coldplay |             370|2025-05-07 20:12:...|\n",
      "|        Lady Gaga |             325|2025-05-07 20:12:...|\n",
      "|     Benson Boone |             324|2025-05-07 20:12:...|\n",
      "|   Arctic Monkeys |             297|2025-05-07 20:12:...|\n",
      "|Sabrina Carpenter |             288|2025-05-07 20:12:...|\n",
      "|    Billie Eilish |             280|2025-05-07 20:12:...|\n",
      "|       Ed Sheeran |             250|2025-05-07 20:12:...|\n",
      "|       Tate McRae |             224|2025-05-07 20:12:...|\n",
      "|      Teddy Swims |             208|2025-05-07 20:12:...|\n",
      "+------------------+----------------+--------------------+\n",
      "\n"
     ]
    }
   ],
   "source": [
    "df_top_artistas.show()"
   ]
  }
 ],
 "metadata": {
  "kernelspec": {
   "display_name": "Python 3 (ipykernel)",
   "language": "python",
   "name": "python3"
  },
  "language_info": {
   "codemirror_mode": {
    "name": "ipython",
    "version": 3
   },
   "file_extension": ".py",
   "mimetype": "text/x-python",
   "name": "python",
   "nbconvert_exporter": "python",
   "pygments_lexer": "ipython3",
   "version": "3.10.5"
  }
 },
 "nbformat": 4,
 "nbformat_minor": 5
}
