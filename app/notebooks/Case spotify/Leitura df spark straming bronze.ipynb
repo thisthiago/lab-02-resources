{
 "cells": [
  {
   "cell_type": "code",
   "execution_count": null,
   "id": "38f3bda5-7fe5-42e5-8d10-24d68ad3c38b",
   "metadata": {
    "tags": []
   },
   "outputs": [],
   "source": [
    "from pyspark.sql import SparkSession, DataFrame\n",
    "from pyspark.sql import functions as F\n",
    "from pyspark.sql.window import Window\n",
    "from pyspark.sql.utils import AnalysisException\n",
    "from pyspark.sql.types import StructType, StructField, StringType, BinaryType, IntegerType, DoubleType, TimestampType, DateType, LongType\n",
    "from delta.tables import DeltaTable\n",
    "from pyspark.sql.utils import AnalysisException\n",
    "from pyspark.storagelevel import StorageLevel\n",
    "from typing import Union, Optional\n",
    "from pyspark.sql.functions import input_file_name\n",
    "\n",
    "# --- Credenciais AWS ---\n",
    "accessKeyId = \"\"\n",
    "secretAccessKey = \"\"\n",
    "\n",
    "# --- Sessão Spark ---\n",
    "def create_spark_session() -> SparkSession:\n",
    "    spark = (\n",
    "        SparkSession\n",
    "        .builder\n",
    "        .appName(\"Bronze Zone Streaming\")\n",
    "        .config(\"spark.sql.extensions\", \"io.delta.sql.DeltaSparkSessionExtension\")\n",
    "        .config(\"spark.sql.catalog.spark_catalog\", \"org.apache.spark.sql.delta.catalog.DeltaCatalog\")\n",
    "        .enableHiveSupport()\n",
    "        .getOrCreate()\n",
    "    )\n",
    "    \n",
    "    spark.sparkContext.setLogLevel(\"WARN\")\n",
    "\n",
    "    conf = spark.sparkContext._jsc.hadoopConfiguration()\n",
    "    conf.set(\"spark.hadoop.fs.s3a.aws.credentials.provider\", \"org.apache.hadoop.fs.s3a.TemporaryAWSCredentialsProvider\")\n",
    "    conf.set(\"fs.s3a.impl\", \"org.apache.hadoop.fs.s3a.S3AFileSystem\")\n",
    "    conf.set(\"fs.s3a.fast.upload\", \"true\")\n",
    "    conf.set(\"fs.s3a.bucket.all.committer.magic.enabled\", \"true\")\n",
    "    conf.set(\"fs.s3a.directory.marker.retention\", \"keep\")\n",
    "    conf.set(\"spark.driver.extraClassPath\", \"/usr/local/spark/jars/*\")\n",
    "    conf.set(\"spark.driver.memory\", \"8g\")\n",
    "    conf.set(\"spark.executor.memory\", \"16g\")\n",
    "    conf.set(\"fs.s3a.access.key\", accessKeyId)\n",
    "    conf.set(\"fs.s3a.secret.key\", secretAccessKey)\n",
    "\n",
    "    return spark\n",
    "\n",
    "spark = create_spark_session()"
   ]
  },
  {
   "cell_type": "code",
   "execution_count": 4,
   "id": "2f448bc0-06ad-4633-a172-9571c5a1f9f6",
   "metadata": {
    "tags": []
   },
   "outputs": [],
   "source": [
    "bronze_path = f\"s3a://dev-lab-02-us-east-2-bronze/spotify/\"\n",
    "spark.read.format(\"delta\").load(f\"{bronze_path}usuarios\").createOrReplaceTempView(\"usuarios\")"
   ]
  },
  {
   "cell_type": "code",
   "execution_count": 15,
   "id": "39f7e102-f62d-4341-8450-03fb88567e3f",
   "metadata": {
    "tags": []
   },
   "outputs": [
    {
     "name": "stdout",
     "output_type": "stream",
     "text": [
      "+--------+\n",
      "|count(1)|\n",
      "+--------+\n",
      "|     110|\n",
      "+--------+\n",
      "\n"
     ]
    }
   ],
   "source": [
    "spark.sql(\n",
    "\"\"\"\n",
    "select count(1) from usuarios\n",
    "\"\"\"\n",
    ").show()"
   ]
  },
  {
   "cell_type": "code",
   "execution_count": 14,
   "id": "5d58349d-8238-4a3a-9f29-eff82d9f3c50",
   "metadata": {
    "tags": []
   },
   "outputs": [
    {
     "name": "stdout",
     "output_type": "stream",
     "text": [
      "+---+--------------------+--------------------+-------------------+--------------------+\n",
      "| id|                nome|               email|          timestamp|      origem_arquivo|\n",
      "+---+--------------------+--------------------+-------------------+--------------------+\n",
      "| 22|  Dr. Paulette Aubry|virginie60@exampl...|2025-05-06 15:01:20|s3a://dev-lab-02-...|\n",
      "| 42|       Marvin Staude|siegmar34@example...|2025-05-06 15:01:20|s3a://dev-lab-02-...|\n",
      "| 23|      Jaroslaw Karge|xschlosser@exampl...|2025-05-06 15:01:20|s3a://dev-lab-02-...|\n",
      "| 27| Benigno Ocaña López|victoriagomila@ex...|2025-05-06 15:01:20|s3a://dev-lab-02-...|\n",
      "| 28|  Karl-Heinrich Henk|enginkambs@exampl...|2025-05-06 15:01:20|s3a://dev-lab-02-...|\n",
      "| 11|  Micaela Jara Peiró| cosme82@example.net|2025-05-06 15:01:20|s3a://dev-lab-02-...|\n",
      "| 29|   Sylvie Carpentier| hbrunel@example.net|2025-05-06 15:01:20|s3a://dev-lab-02-...|\n",
      "| 13|        Émilie Baron|charlescapucine@e...|2025-05-06 15:01:20|s3a://dev-lab-02-...|\n",
      "| 30|   Gabrielly Ribeiro|machadovitor@exam...|2025-05-06 15:01:20|s3a://dev-lab-02-...|\n",
      "| 15|     Christine Vidal|uleblanc@example.com|2025-05-06 15:01:20|s3a://dev-lab-02-...|\n",
      "| 31|      Abdul Pergande|mconradi@example.com|2025-05-06 15:01:20|s3a://dev-lab-02-...|\n",
      "| 17|Gustavo Henrique ...|  lnunes@example.com|2025-05-06 15:01:20|s3a://dev-lab-02-...|\n",
      "| 32|Dr. João Felipe M...| rda-paz@example.net|2025-05-06 15:01:20|s3a://dev-lab-02-...|\n",
      "| 19| Ms. Caroline Nguyen|  aime30@example.org|2025-05-06 15:01:20|s3a://dev-lab-02-...|\n",
      "| 33|     Mr. Cauã Araújo|maria-sophia46@ex...|2025-05-06 15:01:20|s3a://dev-lab-02-...|\n",
      "| 21|     Irmtraud Biggen|bzaenker@example.net|2025-05-06 15:01:20|s3a://dev-lab-02-...|\n",
      "| 34|   Sra. Susan Osborn|patricia72@exampl...|2025-05-06 15:01:20|s3a://dev-lab-02-...|\n",
      "| 25|Sr. Jonatan Benav...|cristobal93@examp...|2025-05-06 15:01:20|s3a://dev-lab-02-...|\n",
      "| 35|       Julia da Cruz|   hlima@example.net|2025-05-06 15:01:20|s3a://dev-lab-02-...|\n",
      "| 41|Prof. Dr. Davi Lu...|joao-vitor91@exam...|2025-05-06 15:01:20|s3a://dev-lab-02-...|\n",
      "+---+--------------------+--------------------+-------------------+--------------------+\n",
      "only showing top 20 rows\n",
      "\n"
     ]
    }
   ],
   "source": [
    "spark.sql(\n",
    "\"\"\"\n",
    "select * from usuarios\n",
    "order by timestamp desc\n",
    "\"\"\"\n",
    ").show()"
   ]
  }
 ],
 "metadata": {
  "kernelspec": {
   "display_name": "Python 3 (ipykernel)",
   "language": "python",
   "name": "python3"
  },
  "language_info": {
   "codemirror_mode": {
    "name": "ipython",
    "version": 3
   },
   "file_extension": ".py",
   "mimetype": "text/x-python",
   "name": "python",
   "nbconvert_exporter": "python",
   "pygments_lexer": "ipython3",
   "version": "3.10.5"
  }
 },
 "nbformat": 4,
 "nbformat_minor": 5
}
