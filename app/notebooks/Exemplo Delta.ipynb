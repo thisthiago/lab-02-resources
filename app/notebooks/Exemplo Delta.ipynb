{
	"cells": [
		{
			"cell_type": "markdown",
			"metadata": {
				"editable": true,
				"trusted": true
			},
			"source": [
				"#### Configuracao\n"
			]
		},
		{
			"cell_type": "code",
			"execution_count": 2,
			"metadata": {
				"editable": true,
				"trusted": true,
				"vscode": {
					"languageId": "python_glue_session"
				}
			},
			"outputs": [
				{
					"name": "stdout",
					"output_type": "stream",
					"text": [
						"Welcome to the Glue Interactive Sessions Kernel\n",
						"For more information on available magic commands, please type %help in any new cell.\n",
						"\n",
						"Please view our Getting Started page to access the most up-to-date information on the Interactive Sessions kernel: https://docs.aws.amazon.com/glue/latest/dg/interactive-sessions.html\n",
						"Installed kernel version: 1.0.8 \n",
						"The following configurations have been updated: {'datalake-formats': 'delta', 'conf': 'spark.sql.extensions=io.delta.sql.DeltaSparkSessionExtension --conf spark.sql.catalog.spark_catalog=org.apache.spark.sql.delta.catalog.DeltaCatalog', '--extra-py-files': 'https://tfstate-lab-02-infra-us-east-1.s3.us-east-2.amazonaws.com/jars/delta-core_2.12-2.3.0.jar'}\n"
					]
				}
			],
			"source": [
				"%%configure\n",
				"{\n",
				"    \"datalake-formats\":\"delta\",\n",
				"    \"conf\": \"spark.sql.extensions=io.delta.sql.DeltaSparkSessionExtension --conf spark.sql.catalog.spark_catalog=org.apache.spark.sql.delta.catalog.DeltaCatalog\",\n",
				"    \"--extra-py-files\": \"https://tfstate-lab-02-infra-us-east-1.s3.us-east-2.amazonaws.com/jars/delta-core_2.12-2.3.0.jar\"\n",
				"}"
			]
		},
		{
			"cell_type": "markdown",
			"metadata": {
				"editable": true,
				"trusted": true
			},
			"source": [
				"####  Notebook\n"
			]
		},
		{
			"cell_type": "code",
			"execution_count": 41,
			"metadata": {
				"collapsed": true,
				"editable": true,
				"jupyter": {
					"outputs_hidden": true
				},
				"tags": [],
				"trusted": true,
				"vscode": {
					"languageId": "python_glue_session"
				}
			},
			"outputs": [
				{
					"name": "stderr",
					"output_type": "stream",
					"text": [
						"You are already connected to a glueetl session 56cc2978-a220-4853-a2dd-bdb480ac3023.\n",
						"\n",
						"No change will be made to the current session that is set as glueetl. The session configuration change will apply to newly created sessions.\n"
					]
				},
				{
					"name": "stdout",
					"output_type": "stream",
					"text": [
						"Current idle_timeout is 2880 minutes.\n",
						"idle_timeout has been set to 2880 minutes.\n"
					]
				},
				{
					"name": "stderr",
					"output_type": "stream",
					"text": [
						"You are already connected to a glueetl session 56cc2978-a220-4853-a2dd-bdb480ac3023.\n",
						"\n",
						"No change will be made to the current session that is set as glueetl. The session configuration change will apply to newly created sessions.\n"
					]
				},
				{
					"name": "stdout",
					"output_type": "stream",
					"text": [
						"Setting Glue version to: 5.0\n"
					]
				},
				{
					"name": "stderr",
					"output_type": "stream",
					"text": [
						"You are already connected to a glueetl session 56cc2978-a220-4853-a2dd-bdb480ac3023.\n",
						"\n",
						"No change will be made to the current session that is set as glueetl. The session configuration change will apply to newly created sessions.\n"
					]
				},
				{
					"name": "stdout",
					"output_type": "stream",
					"text": [
						"Previous worker type: G.1X\n",
						"Setting new worker type to: G.1X\n"
					]
				},
				{
					"name": "stderr",
					"output_type": "stream",
					"text": [
						"You are already connected to a glueetl session 56cc2978-a220-4853-a2dd-bdb480ac3023.\n",
						"\n",
						"No change will be made to the current session that is set as glueetl. The session configuration change will apply to newly created sessions.\n"
					]
				},
				{
					"name": "stdout",
					"output_type": "stream",
					"text": [
						"Previous number of workers: 2\n",
						"Setting new number of workers to: 2\n",
						"Previous Spark configuration: spark.sql.catalog.spark_catalog=org.apache.spark.sql.delta.catalog.DeltaCatalog\n",
						"Setting new Spark configuration to: spark.sql.extensions io.delta.sql.DeltaSparkSessionExtension\n",
						"Previous Spark configuration: spark.sql.extensions io.delta.sql.DeltaSparkSessionExtension\n",
						"Setting new Spark configuration to: spark.sql.catalog.spark_catalog org.apache.spark.sql.delta.catalog.DeltaCatalog\n"
					]
				}
			],
			"source": [
				"%idle_timeout 2880\n",
				"%glue_version 5.0\n",
				"%worker_type G.1X\n",
				"%number_of_workers 2\n",
				"%spark_conf spark.sql.extensions io.delta.sql.DeltaSparkSessionExtension\n",
				"%spark_conf spark.sql.catalog.spark_catalog org.apache.spark.sql.delta.catalog.DeltaCatalog"
			]
		},
		{
			"cell_type": "code",
			"execution_count": 10,
			"metadata": {
				"tags": [],
				"trusted": true,
				"vscode": {
					"languageId": "python_glue_session"
				}
			},
			"outputs": [
				{
					"name": "stdout",
					"output_type": "stream",
					"text": [
						"\n"
					]
				}
			],
			"source": [
				"import sys\n",
				"from awsglue.transforms import *\n",
				"from awsglue.utils import getResolvedOptions\n",
				"from pyspark.context import SparkContext\n",
				"from awsglue.context import GlueContext\n",
				"from awsglue.job import Job\n",
				"from pyspark.sql import SparkSession\n",
				"\n",
				"def run_test(spark):\n",
				"    dados = [\n",
				"        {\"nome\": \"Amanda\", \"idade\": 30},\n",
				"        {\"nome\": \"Shirlley\", \"idade\": 25},\n",
				"        {\"nome\": \"Antônio\", \"idade\": 27}\n",
				"    ]\n",
				"\n",
				"    df = spark.createDataFrame(dados)\n",
				"\n",
				"    (\n",
				"        df\n",
				"        .coalesce(1)\n",
				"        .write\n",
				"        .format(\"delta\")\n",
				"        .mode(\"overwrite\")\n",
				"        .save(\"s3://tfstate-lab-02-infra-us-east-1/teste/\")\n",
				"    )\n",
				"\n",
				"\n",
				"sc = SparkContext.getOrCreate()\n",
				"glueContext = GlueContext(sc)\n",
				"spark = glueContext.spark_session\n",
				"job = Job(glueContext)\n",
				"run_test(spark)\n",
				"try:\n",
				"    job.commit()\n",
				"except:\n",
				"    print(\"Erro ao commitar\")\n",
				"    "
			]
		},
		{
			"cell_type": "markdown",
			"metadata": {},
			"source": []
		},
		{
			"cell_type": "code",
			"execution_count": 3,
			"metadata": {
				"tags": [],
				"trusted": true,
				"vscode": {
					"languageId": "python_glue_session"
				}
			},
			"outputs": [
				{
					"name": "stdout",
					"output_type": "stream",
					"text": [
						"\n"
					]
				}
			],
			"source": []
		}
	],
	"metadata": {
		"kernelspec": {
			"display_name": "Glue PySpark",
			"language": "python",
			"name": "glue_pyspark"
		},
		"language_info": {
			"codemirror_mode": {
				"name": "python",
				"version": 3
			},
			"file_extension": ".py",
			"mimetype": "text/x-python",
			"name": "Python_Glue_Session",
			"pygments_lexer": "python3"
		}
	},
	"nbformat": 4,
	"nbformat_minor": 4
}
