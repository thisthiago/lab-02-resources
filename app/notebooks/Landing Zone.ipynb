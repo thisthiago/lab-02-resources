{
 "cells": [
  {
   "cell_type": "code",
   "execution_count": null,
   "id": "8b15ec98-83d4-4e57-80f4-768458481cdf",
   "metadata": {
    "tags": []
   },
   "outputs": [],
   "source": [
    "from pyspark import SparkConf, SparkContext\n",
    "from pyspark.sql import SparkSession, DataFrame\n",
    "from pyspark.sql import functions as F\n",
    "from pyspark.sql.types import StringType, BooleanType, DateType\n",
    "from pyspark.sql.types import StructType, StringType, BinaryType, IntegerType, DoubleType, TimestampType, DateType\n",
    "from pyspark.storagelevel import StorageLevel\n",
    "from delta.tables import *\n",
    "accessKeyId=\"\"\n",
    "secretAccessKey=\"\"\n",
    "\n",
    "    \n",
    "def create_spark_session() -> SparkSession:\n",
    "    spark = (\n",
    "        SparkSession\n",
    "        .builder\n",
    "        .appName(\"Landing Zone\")\n",
    "        .enableHiveSupport()\n",
    "        .getOrCreate()\n",
    "    )\n",
    "\n",
    "    spark.sparkContext.setLogLevel(\"WARN\")\n",
    "\n",
    "    conf = spark.sparkContext._jsc.hadoopConfiguration()\n",
    "    #conf.set(\"fs.s3a.aws.credentials.provider\", \"com.amazonaws.auth.WebIdentityTokenCredentialsProvider\")\n",
    "    conf.set('spark.hadoop.fs.s3a.aws.credentials.provider', 'org.apache.hadoop.fs.s3a.TemporaryAWSCredentialsProvider')\n",
    "    conf.set(\"fs.s3a.impl\", \"org.apache.hadoop.fs.s3a.S3AFileSystem\")\n",
    "    conf.set(\"fs.s3a.fast.upload\", \"true\")\n",
    "    conf.set(\"fs.s3a.bucket.all.committer.magic.enabled\", \"true\")\n",
    "    conf.set(\"fs.s3a.directory.marker.retention\", \"keep\")\n",
    "    conf.set(\"spark.driver.extraClassPath\",\"/usr/local/spark/jars/*\") \n",
    "    conf.set(\"spark.driver.memory\", \"8g\") \n",
    "    conf.set(\"spark.executor.memory\", \"16g\") \n",
    "    conf.set('fs.s3a.access.key',accessKeyId)\n",
    "    conf.set('fs.s3a.secret.key', secretAccessKey)\n",
    "    return spark\n",
    "\n",
    "spark = create_spark_session()"
   ]
  },
  {
   "cell_type": "code",
   "execution_count": 4,
   "id": "db96c414-4c3f-4d38-8b48-4ea934e74743",
   "metadata": {
    "tags": []
   },
   "outputs": [],
   "source": [
    "jdbc_url = \"jdbc:postgresql://dev-db-dados.cbmaakoae02z.us-east-2.rds.amazonaws.com:5432/postgres\"\n",
    "connection_properties = {\n",
    "    \"user\": \"postgres\",\n",
    "    \"password\": \"senhasegura\",\n",
    "    \"driver\": \"org.postgresql.Driver\"\n",
    "}"
   ]
  },
  {
   "cell_type": "code",
   "execution_count": 14,
   "id": "12a3d878-74aa-4d09-ae83-9b67b69fc4ac",
   "metadata": {
    "tags": []
   },
   "outputs": [],
   "source": [
    "tabelas = [\n",
    "    \"cliente\", \n",
    "    #\"profissional\", \n",
    "    #\"servico\", \n",
    "    #\"agendamento\", \n",
    "    #\"pagamento\", \n",
    "    #\"horario_profissional\", \n",
    "    #\"promocao\", \n",
    "    #\"servico_promocao\"\n",
    "]"
   ]
  },
  {
   "cell_type": "code",
   "execution_count": 9,
   "id": "cea20f3a-6736-4424-8608-152e736f3e79",
   "metadata": {
    "tags": []
   },
   "outputs": [],
   "source": [
    "bronze_path = \"s3a://dev-lab-02-us-east-2-landing/db_barbearia/\""
   ]
  },
  {
   "cell_type": "code",
   "execution_count": 21,
   "id": "01d612f2-7b94-49b9-b977-6b428d87a49d",
   "metadata": {
    "tags": []
   },
   "outputs": [
    {
     "name": "stdout",
     "output_type": "stream",
     "text": [
      "Ingerindo tabela: cliente...\n",
      "Tabela cliente ingerida com sucesso!\n"
     ]
    }
   ],
   "source": [
    "for tabela in tabelas:\n",
    "    print(f\"Ingerindo tabela: {tabela}...\")\n",
    "    \n",
    "    df = spark.read.option(\"batchsize\",\"10000\").jdbc(\n",
    "        url=jdbc_url,\n",
    "        table=tabela,\n",
    "        properties=connection_properties\n",
    "    )\n",
    "    \n",
    "    df = (\n",
    "        df\n",
    "        .withColumn(\"ingestion_time\", F.current_timestamp()) \n",
    "        .withColumn(\"origem\", F.lit(\"postgresql\"))\n",
    "    )\n",
    "    \n",
    "    \n",
    "    (\n",
    "        df\n",
    "        .write\n",
    "        .format(\"parquet\")\n",
    "        .mode(\"append\")\n",
    "        .save(f\"{bronze_path}/{tabela}\")\n",
    "    )\n",
    "    \n",
    "    print(f\"Tabela {tabela} ingerida com sucesso!\")"
   ]
  },
  {
   "cell_type": "code",
   "execution_count": 22,
   "id": "df45586e-a845-486f-ab97-868dec65903b",
   "metadata": {
    "tags": []
   },
   "outputs": [],
   "source": [
    "spark.read.format(\"parquet\").load(\"s3a://dev-lab-02-us-east-2-landing/db_barbearia/cliente/\").createOrReplaceTempView(\"cliente\")"
   ]
  },
  {
   "cell_type": "code",
   "execution_count": 23,
   "id": "f09b2c55-ae7f-499b-bc93-bd08370fc8f0",
   "metadata": {
    "tags": []
   },
   "outputs": [
    {
     "name": "stdout",
     "output_type": "stream",
     "text": [
      "+---------------+--------------------------+\n",
      "|nome           |ingestion_time            |\n",
      "+---------------+--------------------------+\n",
      "|Thiago Pererira|2025-05-04 21:48:15.196922|\n",
      "+---------------+--------------------------+\n",
      "\n"
     ]
    }
   ],
   "source": [
    "spark.sql(\"select nome,ingestion_time from cliente where cliente_id in (1) order by 2 desc\").show(truncate= False)"
   ]
  },
  {
   "cell_type": "code",
   "execution_count": 24,
   "id": "5ecbcb38-7993-43c7-be18-4f4617aacadb",
   "metadata": {
    "tags": []
   },
   "outputs": [
    {
     "name": "stdout",
     "output_type": "stream",
     "text": [
      "+--------------------------+\n",
      "|max(ingestion_time)       |\n",
      "+--------------------------+\n",
      "|2025-05-04 21:49:14.919492|\n",
      "+--------------------------+\n",
      "\n"
     ]
    }
   ],
   "source": [
    "spark.sql(\"select max(ingestion_time) from cliente\").show(truncate= False)"
   ]
  }
 ],
 "metadata": {
  "kernelspec": {
   "display_name": "Python 3 (ipykernel)",
   "language": "python",
   "name": "python3"
  },
  "language_info": {
   "codemirror_mode": {
    "name": "ipython",
    "version": 3
   },
   "file_extension": ".py",
   "mimetype": "text/x-python",
   "name": "python",
   "nbconvert_exporter": "python",
   "pygments_lexer": "ipython3",
   "version": "3.10.5"
  }
 },
 "nbformat": 4,
 "nbformat_minor": 5
}
